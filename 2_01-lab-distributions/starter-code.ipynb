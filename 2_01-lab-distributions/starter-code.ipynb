{
 "cells": [
  {
   "cell_type": "markdown",
   "metadata": {},
   "source": [
    "# \"Fun with Loot Boxes\" Lab\n",
    "\n",
    "> Author: Caroline Schmitt, Matt Brems\n",
    "\n",
    "### Scenario:\n",
    "\n",
    "You're an analyst for [Zynga](https://en.wikipedia.org/wiki/Zynga), a gaming studio working on an event for an MMO (massively multiplayer online) game. This event is going to include **loot boxes**.\n",
    "\n",
    "<img src=\"https://vignette.wikia.nocookie.net/2007scape/images/0/06/Culinaromancer%27s_chest.png/revision/latest?cb=20180403231423\" alt=\"drawing\" width=\"150\"/> \n",
    "\n",
    "A loot box is basically a treasure chest in a game. This loot box can be opened to reveal a variety of items: some items are very rare and valuable, other items are common and less valuable. (You may consult [the esteemed Wikipedia](https://en.wikipedia.org/wiki/Loot_box) for a more extensive definition.)\n",
    "\n",
    "In our specific game, suppose that loot boxes can be obtained in one of two ways: \n",
    "- After every three hours of playing the game, a user will earn one loot box.\n",
    "- If the user wishes to purchase a loot box, they may pay $1 (in real money!) for a loot box.\n",
    "\n",
    "These loot boxes are very good for our business!\n",
    "- If a player earns a loot box, it means they are spending lots of time on the game. This often leads to advertisement revenue, they may tell their friends to join the game, etc.\n",
    "- If the player purchases a loot box, it means we've earned $1 from our customer.\n",
    "\n",
    "Suppose each loot box is opened to reveal either:\n",
    "- magical elixir (super rare, very valuable), or\n",
    "- nothing.\n",
    "\n",
    "Whether each loot box contains the elixir or nothing is **random**. Our boss wants some guidance on what sort of randomness to use on these loot boxes! \n",
    "- If the magical elixir is too rare, then users may not be motivated to try to get them, because they believe they'll never find the magical elixir.\n",
    "- If the magical elixir is too common, then users may not be motivated to try to get them, because the game has so much of the magical elixir that it isn't worthwhile to try to get it.\n",
    "\n",
    "However, our boss isn't a math-y type person! When explaining things to our boss, we need to explain the impact of our choices on the game as concretely as possible.\n",
    "\n",
    "### Version 1\n",
    "In our first version of the game, we'll say that loot boxes contain magical elixir 15% of the time and nothing 85% of the time.\n",
    "\n",
    "#### 1. Our boss asks, \"If a user buys 100 loot boxes, how many elixirs will they get?\" How would you respond?"
   ]
  },
  {
   "cell_type": "markdown",
   "metadata": {},
   "source": [
    "**Answer**: If a user buys 100 loot boxes, they will get approximately 15 elixirs."
   ]
  },
  {
   "cell_type": "markdown",
   "metadata": {},
   "source": [
    "#### 2. Our boss asks, \"How many loot boxes does someone have to purchase in order to definitely get elixir?\" How would you respond?"
   ]
  },
  {
   "cell_type": "markdown",
   "metadata": {},
   "source": [
    "**Answer**:\n",
    "- One needs to purchase 7 boxes in order to definitely get an elixir.\n",
    "- Mathematically, the expectation _E_ of the number of trials to first occurrence of an event _V_ in a sequence of trials is _E_ = 1/_p_.\n",
    "- Given than the probability of getting an elixir = 0.15 = 3/20, _E_ = 20/3 = 6.666667 = 7 (rounded up to nearest integer)."
   ]
  },
  {
   "cell_type": "markdown",
   "metadata": {},
   "source": [
    "#### 3. Our boss asks, \"If a user earns 100 loot boxes, what is the chance that a user gets more than 20 elixirs?\" This is a bit more complicated, so let's break it down before answering."
   ]
  },
  {
   "cell_type": "markdown",
   "metadata": {},
   "source": [
    "#### 3a. Let's suppose my random variable $X$ counts up how many elixirs I observe out of my 100 loot boxes. Why is $X$ a discrete random variable?"
   ]
  },
  {
   "cell_type": "markdown",
   "metadata": {},
   "source": [
    "**Answer**: X is discrete as it can be counted. X is a random variable as its value changes if an elixir is observed and remains the same if an elixir is not observed."
   ]
  },
  {
   "cell_type": "markdown",
   "metadata": {},
   "source": [
    "#### 3b. Recall our discrete distributions: discrete uniform, Bernoulli, binomial, Poisson. Let's suppose my random variable $X$ counts up how many elixirs I observe out of my 100 loot boxes. What distribution is best suited for $X$? Why?\n",
    "- Hint: It may help to consider getting the magical elixir a \"success\" and getting nothing a \"failure.\" "
   ]
  },
  {
   "cell_type": "markdown",
   "metadata": {},
   "source": [
    "**Answer**: Binomial distribution. There are binary outcomes (success vs. failure) with multiple trials (opening 100 loot boxes)."
   ]
  },
  {
   "cell_type": "markdown",
   "metadata": {},
   "source": [
    "#### 3c. Our boss asks, \"If a user earns 100 loot boxes, what is the chance that a user gets more than 20 elixirs?\" Use the probability mass function to answer the boss' question."
   ]
  },
  {
   "cell_type": "code",
   "execution_count": 1,
   "metadata": {},
   "outputs": [],
   "source": [
    "import numpy as np\n",
    "import matplotlib.pyplot as plt\n",
    "import scipy.stats as stats"
   ]
  },
  {
   "cell_type": "code",
   "execution_count": 2,
   "metadata": {},
   "outputs": [
    {
     "name": "stdout",
     "output_type": "stream",
     "text": [
      "The probability that a user gets more than 20 elixirs by opening 100 boxes is 6.6%.\n"
     ]
    }
   ],
   "source": [
    "# Show your work; leave your answer in a comment.\n",
    "p_elixir = 0.15\n",
    "trials = 100\n",
    "loot_dist = stats.binom(trials,p_elixir)\n",
    "\n",
    "prob_less_than_20 = 0\n",
    "\n",
    "for box in range(21): # open 20 boxes\n",
    "    prob_less_than_20 += loot_dist.pmf(box) # add probabilities for each specific number of boxes opened\n",
    "\n",
    "prob_more_than_20 = 1 - prob_less_than_20\n",
    "\n",
    "print(f\"The probability that a user gets more than 20 elixirs by opening 100 boxes is {prob_more_than_20:.1%}.\")"
   ]
  },
  {
   "cell_type": "markdown",
   "metadata": {},
   "source": [
    "#### 3d. Our boss asks, \"If a user earns 100 loot boxes, what is the chance that a user gets more than 20 elixirs?\" Use the cumulative distribution function to answer the boss' question."
   ]
  },
  {
   "cell_type": "code",
   "execution_count": 3,
   "metadata": {},
   "outputs": [
    {
     "name": "stdout",
     "output_type": "stream",
     "text": [
      "The probability that a user gets more than 20 elixirs by opening 100 boxes is 6.6%.\n"
     ]
    }
   ],
   "source": [
    "# Show your work; leave your answer in a comment.\n",
    "\n",
    "prob_more_than_20_cdf = 1-loot_dist.cdf(20)\n",
    "\n",
    "print(f\"The probability that a user gets more than 20 elixirs by opening 100 boxes is {prob_more_than_20_cdf:.1%}.\")"
   ]
  },
  {
   "cell_type": "markdown",
   "metadata": {},
   "source": [
    "#### 3e. Our boss asks, \"If a user earns 100 loot boxes, what is the chance that a user gets more than 20 elixirs?\" Answer your boss' question. *Remember that your boss is not a math-y person!*"
   ]
  },
  {
   "cell_type": "markdown",
   "metadata": {},
   "source": [
    "**Answer**: Looking at the bar chart below, the number and size of bars after '20' on the horizontal axis represents 6.6% of all the bars. This means that there's an approximately 6.6% chance that a user gets more than 20 elixirs if he earns 100 loot boxes."
   ]
  },
  {
   "cell_type": "code",
   "execution_count": 4,
   "metadata": {},
   "outputs": [
    {
     "data": {
      "text/plain": [
       "<BarContainer object of 101 artists>"
      ]
     },
     "execution_count": 4,
     "metadata": {},
     "output_type": "execute_result"
    },
    {
     "data": {
      "image/png": "[encoded data removed]",
      "text/plain": [
       "<Figure size 640x480 with 1 Axes>"
      ]
     },
     "metadata": {},
     "output_type": "display_data"
    }
   ],
   "source": [
    "loot_outcomes = list(range(0,101))\n",
    "\n",
    "plt.bar(loot_outcomes,\n",
    "        loot_dist.pmf(loot_outcomes))"
   ]
  },
  {
   "cell_type": "markdown",
   "metadata": {},
   "source": [
    "#### 4. Your boss wants to know how many people purchased how many loot boxes last month. \n",
    "> For example, last month, 70% of users did not purchase any loot boxes. 10% of people purchased one loot box. 5% of people purchased two loot boxes... and so on.\n",
    "\n",
    "#### 4a. Recall our discrete distributions: discrete uniform, Bernoulli, binomial, Poisson. Let's suppose my random variable $Y$ counts up how many loot boxes each person purchased through the game last month. What distribution is best suited for $Y$? Why?"
   ]
  },
  {
   "cell_type": "markdown",
   "metadata": {},
   "source": [
    "**Answer**: Poisson distribution as it looks at the number of events occurring (purchasing loot boxes) within a given interval of time (one month)."
   ]
  },
  {
   "cell_type": "markdown",
   "metadata": {},
   "source": [
    "#### 4b. Suppose that, on average, your customers purchased 2.7 loot boxes last month. In order for your revenue to be at least $500,000, at least how many users would you need on your platform? (Round your answer up to the nearest thousand.) "
   ]
  },
  {
   "cell_type": "code",
   "execution_count": 5,
   "metadata": {},
   "outputs": [
    {
     "data": {
      "text/plain": [
       "185000"
      ]
     },
     "execution_count": 5,
     "metadata": {},
     "output_type": "execute_result"
    }
   ],
   "source": [
    "# Show your work; leave your answer in a comment.\n",
    "\n",
    "from statistics import mean\n",
    "\n",
    "def min_users(min_val, max_val): # find the minimum number of users\n",
    "    revenue = 0\n",
    "    for users in range(min_val, max_val):\n",
    "        revenue = np.random.poisson(2.7, users).sum()\n",
    "        if revenue >= 500000:\n",
    "            return users\n",
    "\n",
    "def min_users_multiple(n, min_val, max_val): # simulate n times to take the mean of all n simulations\n",
    "    sum_list = []\n",
    "    for i in range (n):\n",
    "        sum_list.append(min_users(min_val, max_val))\n",
    "    return int(round(mean(sum_list), -3)) # round to nearest 1000\n",
    "\n",
    "min_users_multiple(10, 184000, 190000) # take 184000 as the lower bound to reduce number of iterations to reach minimum users\n",
    "\n",
    "# At least 185000 users are needed."
   ]
  },
  {
   "cell_type": "markdown",
   "metadata": {},
   "source": [
    "#### 4c. Assume that your platform has the number of users you mentioned in your last answer. Suppose that your platform calls anyone who purchases 5 or more loot boxes in a month a \"high value user.\" How much money do you expect to have earned from \"high value users?\" How about \"low value users?\""
   ]
  },
  {
   "cell_type": "code",
   "execution_count": 6,
   "metadata": {},
   "outputs": [
    {
     "name": "stdout",
     "output_type": "stream",
     "text": [
      "The revenue earned from high value users is $143000\n",
      "The revenue earned from low value users is $357000\n"
     ]
    }
   ],
   "source": [
    "# Show your work; leave your answer in a comment.\n",
    "\n",
    "from statistics import mean\n",
    "\n",
    "def money_earned_high(num_users):\n",
    "    \n",
    "    loots_purchased = np.random.poisson(2.7, num_users)\n",
    "    high_val_revenue = 0\n",
    "    \n",
    "    for amt in loots_purchased:\n",
    "        if amt >= 5:\n",
    "            high_val_revenue += amt\n",
    "    \n",
    "    return high_val_revenue\n",
    "\n",
    "def money_earned_low(num_users):\n",
    "    \n",
    "    loots_purchased = np.random.poisson(2.7, num_users)\n",
    "    low_val_revenue = 0\n",
    "    \n",
    "    for amt in loots_purchased:\n",
    "        if amt < 5:\n",
    "            low_val_revenue += amt\n",
    "    \n",
    "    return low_val_revenue\n",
    "\n",
    "def money_earned_multiple(n, num_users):\n",
    "    high_val_rev_list = []\n",
    "    low_val_rev_list = []\n",
    "    for i in range (n):\n",
    "        high_val_rev_list.append(money_earned_high(num_users))\n",
    "        low_val_rev_list.append(money_earned_low(num_users))\n",
    "    print(f\"The revenue earned from high value users is ${int(round(mean(high_val_rev_list), -3))}\")\n",
    "    print(f\"The revenue earned from low value users is ${int(round(mean(low_val_rev_list), -3))}\")\n",
    "\n",
    "money_earned_multiple(40, 185000)"
   ]
  },
  {
   "cell_type": "markdown",
   "metadata": {},
   "source": [
    "#### 4d. Suppose that you want to summarize how many people purchased how many loot boxes last month for your boss. Since your boss isn't math-y, what are 2-4 summary numbers you might use to summarize this for your boss? (Your answers will vary here - use your judgment!)"
   ]
  },
  {
   "cell_type": "markdown",
   "metadata": {},
   "source": [
    "**Answer**:\n",
    "1. Number of users who purchased at least 1 loot box (defined as paying users)\n",
    "2. Number of users who purchased 0 loot boxes (defined as free users)\n",
    "3. Proportion of paying users vs. free users (in %)\n",
    "4. Number of high value users (minimum 5 loot boxes purchased)\n",
    "5. Proportion of low vs. high value users (in %)"
   ]
  },
  {
   "cell_type": "markdown",
   "metadata": {},
   "source": [
    "#### 5. Your boss asks \"How many loot boxes does it take before someone gets their first elixir?\" Using `np.random.choice`, simulate how many loot boxes it takes someone to get their first elixir. \n",
    "- Start an empty list.\n",
    "- Use control flow to have someone open loot boxes repeatedly.\n",
    "- Once they open a loot box containing an elixir, record the number of loot boxes it took in the empty list.\n",
    "- Repeat this process 100,000 times. \n",
    "\n",
    "This simulates how long it takes for someone to open a loot box containing elixir. Share the 5th, 25th, 50th, 75th, and 95th percentiles.\n",
    "\n",
    "> You may find [this documentation](https://docs.scipy.org/doc/numpy/reference/generated/numpy.random.choice.html)  and [this documentation](https://docs.scipy.org/doc/numpy/reference/generated/numpy.percentile.html) helpful."
   ]
  },
  {
   "cell_type": "code",
   "execution_count": 7,
   "metadata": {},
   "outputs": [
    {
     "name": "stdout",
     "output_type": "stream",
     "text": [
      "5th percentile: 1.0\n",
      "25th percentile: 2.0\n",
      "50th percentile: 5.0\n",
      "75th percentile: 9.0\n",
      "95th percentile: 19.0\n",
      "mean: 6.69302\n"
     ]
    }
   ],
   "source": [
    "def find_elixir():\n",
    "    record = []\n",
    "    counter = 1\n",
    "    for _ in range(100000):\n",
    "        while np.random.choice(['elixir','no_elixir'],p=[0.15,0.85]) == 'no_elixir':\n",
    "            counter += 1\n",
    "        record.append(counter)\n",
    "        counter = 1\n",
    "    return record\n",
    "\n",
    "print(f\"5th percentile: {np.percentile(find_elixir(), 5)}\")\n",
    "print(f\"25th percentile: {np.percentile(find_elixir(), 25)}\")\n",
    "print(f\"50th percentile: {np.percentile(find_elixir(), 50)}\")\n",
    "print(f\"75th percentile: {np.percentile(find_elixir(), 75)}\")\n",
    "print(f\"95th percentile: {np.percentile(find_elixir(), 95)}\")\n",
    "print(f\"mean: {mean(find_elixir())}\")"
   ]
  },
  {
   "cell_type": "markdown",
   "metadata": {},
   "source": [
    "**Answer**: It takes someone around 5 to 7 boxes to open their first elixir."
   ]
  },
  {
   "cell_type": "markdown",
   "metadata": {},
   "source": [
    "### Version 2\n",
    "\n",
    "After a substantial update to the game, suppose every loot box can be opened to reveal *one of four different* items:\n",
    "- magical elixir (occurs 1% of the time, most valuable)\n",
    "- golden pendant (occurs 9% of the time, valuable)\n",
    "- steel armor (occurs 30% of the time, semi-valuable)\n",
    "- bronze coin (occurs 60% of the time, least valuable)"
   ]
  },
  {
   "cell_type": "markdown",
   "metadata": {},
   "source": [
    "#### 6. Suppose you want repeat problem 5 above, but do that for the version 2 loot boxes so you can track how many loot boxes are needed to get each item? (e.g. You'd like to be able to say that on average it takes 10 trials to get a golden pendant, 3 trials to get steel armor, and so on.) What Python datatype is the best way to store this data? Why?"
   ]
  },
  {
   "cell_type": "markdown",
   "metadata": {},
   "source": [
    "**Answer**: Dictionary where key is the item type as string, and value is the corresponding number of trials."
   ]
  },
  {
   "cell_type": "markdown",
   "metadata": {},
   "source": [
    "#### 7. Suppose you and your boss want to measure whether \"Version 2\" is better than \"Version 1.\" What metrics do you think are important to measure? (Your answers will vary here - use your judgment!)"
   ]
  },
  {
   "cell_type": "markdown",
   "metadata": {},
   "source": [
    "**Answer**:\n",
    "1. Proportion of paying users vs. free users (in %) in V1 and V2\n",
    "2. Proportion of low vs. high value users (in %) in V1 and V2\n",
    "3. Total revenue generated in V1 and V2\n",
    "4. Average hours played per user in V1 and V2"
   ]
  }
 ],
 "metadata": {
  "kernelspec": {
   "display_name": "Python 3",
   "language": "python",
   "name": "python3"
  },
  "language_info": {
   "codemirror_mode": {
    "name": "ipython",
    "version": 3
   },
   "file_extension": ".py",
   "mimetype": "text/x-python",
   "name": "python",
   "nbconvert_exporter": "python",
   "pygments_lexer": "ipython3",
   "version": "3.11.5"
  }
 },
 "nbformat": 4,
 "nbformat_minor": 2
}
