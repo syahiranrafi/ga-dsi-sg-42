{
 "cells": [
  {
   "cell_type": "markdown",
   "metadata": {},
   "source": [
    "# ![](https://ga-dash.s3.amazonaws.com/production/assets/logo-9f88ae6c9c3871690e33280fcf557f33.png) Lab 1.01: Data Structures and Python with Pokemon\n",
    "\n",
    "## Building \"Pokemon Stay\"\n",
    "\n",
    "---\n",
    "You are an analyst at a \"scrappy\" online gaming company that specializes in remakes of last year's fads.\n",
    "\n",
    "Your boss, who runs the product development team, is convinced that Pokemon Go's fatal flaw was that you had to actually move around outside. She has design mock-ups for a new game called \"Pokemon Stay.\" in this version players still need to move, but just from website to website. Pokemon gyms are now popular online destinations, and catching Pokemon in the \"wild\" simply requires browsing the internet for hours in the comfort of your home."
   ]
  },
  {
   "cell_type": "markdown",
   "metadata": {},
   "source": [
    "## Before we start\n",
    "\n",
    "---\n",
    "We're going to take a quick minute to explore nesting behavior of dictionaries and lists. Consider the following data:"
   ]
  },
  {
   "cell_type": "code",
   "execution_count": 1,
   "metadata": {},
   "outputs": [],
   "source": [
    "dsi_lecture_times = {\n",
    "    'WC': {\n",
    "        'LA': {\n",
    "            'M': [9, 2],\n",
    "            'T': [9, 2],\n",
    "            'W': [9, 2],\n",
    "            'Th': [9],\n",
    "            'F': [9]},\n",
    "        'SEA': {\n",
    "            'M': [9, 2],\n",
    "            'T': [9, 2],\n",
    "            'W': [9, 2],\n",
    "            'Th': [9],\n",
    "            'F': [9]},\n",
    "        'DEN': {\n",
    "            'M': [10, 3],\n",
    "            'T': [10, 3],\n",
    "            'W': [10, 3],\n",
    "            'Th': [10],\n",
    "            'F': [10]},\n",
    "        'SF': {\n",
    "            'M': [9, 2],\n",
    "            'T': [9, 2],\n",
    "            'W': [9, 2],\n",
    "            'Th': [9],\n",
    "            'F': [9]}},\n",
    "    'EC': {\n",
    "        'BOS': {\n",
    "            'M': [10, 3],\n",
    "            'T': [10, 3],\n",
    "            'W': [10, 3],\n",
    "            'Th': [10],\n",
    "            'F': [10]},\n",
    "        'NYC': {\n",
    "            'M': [10, 3],\n",
    "            'T': [10, 3],\n",
    "            'W': [10, 3],\n",
    "            'Th': [10],\n",
    "            'F': [10]},\n",
    "        'DC': {\n",
    "            'M': [10, 3],\n",
    "            'T': [10, 3],\n",
    "            'W': [10, 3],\n",
    "            'Th': [10],\n",
    "            'F': [10]},\n",
    "        'ATX': {\n",
    "            'M': [9, 2],\n",
    "            'T': [9, 2],\n",
    "            'W': [9, 2],\n",
    "            'Th': [9],\n",
    "            'F': [9]},\n",
    "        'CHI': {\n",
    "            'M': [9, 2],\n",
    "            'T': [9, 2],\n",
    "            'W': [9, 2],\n",
    "            'Th': [9],\n",
    "            'F': [9]},\n",
    "        'ATL': {\n",
    "            'M': [10, 3],\n",
    "            'T': [10, 3],\n",
    "            'W': [10, 3],\n",
    "            'Th': [10],\n",
    "            'F': [10]}}\n",
    "    }"
   ]
  },
  {
   "cell_type": "markdown",
   "metadata": {},
   "source": [
    "This dictionary contains the start times for the global lectures for each of the 10 DSI-CC campuses. The top level indicates the coast. The next level contains the 2 or 3 letter city codes corresponding to the campuses. The next level contains the 5 days of the week; each day of the week contains a list of 1 or 2 integers corresponding to the start time(s) of the day's lectures.\n",
    "\n",
    "Let's set our objective as accessing the **start time of the second Wednesday lecture in Chicago**.\n",
    "\n",
    "Let's look at how the whole dict is rendered as an output in a Jupyter."
   ]
  },
  {
   "cell_type": "code",
   "execution_count": 2,
   "metadata": {},
   "outputs": [
    {
     "data": {
      "text/plain": [
       "{'WC': {'LA': {'M': [9, 2], 'T': [9, 2], 'W': [9, 2], 'Th': [9], 'F': [9]},\n",
       "  'SEA': {'M': [9, 2], 'T': [9, 2], 'W': [9, 2], 'Th': [9], 'F': [9]},\n",
       "  'DEN': {'M': [10, 3], 'T': [10, 3], 'W': [10, 3], 'Th': [10], 'F': [10]},\n",
       "  'SF': {'M': [9, 2], 'T': [9, 2], 'W': [9, 2], 'Th': [9], 'F': [9]}},\n",
       " 'EC': {'BOS': {'M': [10, 3],\n",
       "   'T': [10, 3],\n",
       "   'W': [10, 3],\n",
       "   'Th': [10],\n",
       "   'F': [10]},\n",
       "  'NYC': {'M': [10, 3], 'T': [10, 3], 'W': [10, 3], 'Th': [10], 'F': [10]},\n",
       "  'DC': {'M': [10, 3], 'T': [10, 3], 'W': [10, 3], 'Th': [10], 'F': [10]},\n",
       "  'ATX': {'M': [9, 2], 'T': [9, 2], 'W': [9, 2], 'Th': [9], 'F': [9]},\n",
       "  'CHI': {'M': [9, 2], 'T': [9, 2], 'W': [9, 2], 'Th': [9], 'F': [9]},\n",
       "  'ATL': {'M': [10, 3], 'T': [10, 3], 'W': [10, 3], 'Th': [10], 'F': [10]}}}"
      ]
     },
     "execution_count": 2,
     "metadata": {},
     "output_type": "execute_result"
    }
   ],
   "source": [
    "dsi_lecture_times"
   ]
  },
  {
   "cell_type": "markdown",
   "metadata": {},
   "source": [
    "We can see that curly braces (i.e., `{}`) and individual spaces are used to separate layers. Because this can be hard to see, oftentimes we'll use the `keys` method on a dictionary to see what the current level of a dictionary contains. If we approach a dict one level at a time, it's easy to drill down to our objective."
   ]
  },
  {
   "cell_type": "code",
   "execution_count": 3,
   "metadata": {},
   "outputs": [
    {
     "data": {
      "text/plain": [
       "dict_keys(['WC', 'EC'])"
      ]
     },
     "execution_count": 3,
     "metadata": {},
     "output_type": "execute_result"
    }
   ],
   "source": [
    "dsi_lecture_times.keys()"
   ]
  },
  {
   "cell_type": "markdown",
   "metadata": {},
   "source": [
    "Once you identify the key you want to access, use square brackets (i.e., `[]`) to access the value associated with that key."
   ]
  },
  {
   "cell_type": "code",
   "execution_count": 4,
   "metadata": {},
   "outputs": [
    {
     "data": {
      "text/plain": [
       "{'BOS': {'M': [10, 3], 'T': [10, 3], 'W': [10, 3], 'Th': [10], 'F': [10]},\n",
       " 'NYC': {'M': [10, 3], 'T': [10, 3], 'W': [10, 3], 'Th': [10], 'F': [10]},\n",
       " 'DC': {'M': [10, 3], 'T': [10, 3], 'W': [10, 3], 'Th': [10], 'F': [10]},\n",
       " 'ATX': {'M': [9, 2], 'T': [9, 2], 'W': [9, 2], 'Th': [9], 'F': [9]},\n",
       " 'CHI': {'M': [9, 2], 'T': [9, 2], 'W': [9, 2], 'Th': [9], 'F': [9]},\n",
       " 'ATL': {'M': [10, 3], 'T': [10, 3], 'W': [10, 3], 'Th': [10], 'F': [10]}}"
      ]
     },
     "execution_count": 4,
     "metadata": {},
     "output_type": "execute_result"
    }
   ],
   "source": [
    "dsi_lecture_times['EC']"
   ]
  },
  {
   "cell_type": "markdown",
   "metadata": {},
   "source": [
    "It appears that we're still working with a dict. Let's check the type."
   ]
  },
  {
   "cell_type": "code",
   "execution_count": 5,
   "metadata": {},
   "outputs": [
    {
     "data": {
      "text/plain": [
       "dict"
      ]
     },
     "execution_count": 5,
     "metadata": {},
     "output_type": "execute_result"
    }
   ],
   "source": [
    "type(dsi_lecture_times['EC'])"
   ]
  },
  {
   "cell_type": "markdown",
   "metadata": {},
   "source": [
    "It is, in fact, a dictionary. This means that we can use dictionary methods on it. Let's look at the keys."
   ]
  },
  {
   "cell_type": "code",
   "execution_count": 6,
   "metadata": {},
   "outputs": [
    {
     "data": {
      "text/plain": [
       "dict_keys(['BOS', 'NYC', 'DC', 'ATX', 'CHI', 'ATL'])"
      ]
     },
     "execution_count": 6,
     "metadata": {},
     "output_type": "execute_result"
    }
   ],
   "source": [
    "dsi_lecture_times['EC'].keys()"
   ]
  },
  {
   "cell_type": "markdown",
   "metadata": {},
   "source": [
    "We can continue to add `[]` with our desired key because **`dsi_lecture_times['EC']`** points directly to a dict and operates in the same way a variable name pointing to a dict would."
   ]
  },
  {
   "cell_type": "code",
   "execution_count": 7,
   "metadata": {},
   "outputs": [
    {
     "data": {
      "text/plain": [
       "{'M': [9, 2], 'T': [9, 2], 'W': [9, 2], 'Th': [9], 'F': [9]}"
      ]
     },
     "execution_count": 7,
     "metadata": {},
     "output_type": "execute_result"
    }
   ],
   "source": [
    "dsi_lecture_times['EC']['CHI']"
   ]
  },
  {
   "cell_type": "markdown",
   "metadata": {},
   "source": [
    "At this point, you can probably guess how we can access the times for Wednesday. Just add the `['W']` key."
   ]
  },
  {
   "cell_type": "code",
   "execution_count": 8,
   "metadata": {},
   "outputs": [
    {
     "data": {
      "text/plain": [
       "[9, 2]"
      ]
     },
     "execution_count": 8,
     "metadata": {},
     "output_type": "execute_result"
    }
   ],
   "source": [
    "dsi_lecture_times['EC']['CHI']['W']"
   ]
  },
  {
   "cell_type": "markdown",
   "metadata": {},
   "source": [
    "Let's check the type of this final level."
   ]
  },
  {
   "cell_type": "code",
   "execution_count": 9,
   "metadata": {},
   "outputs": [
    {
     "data": {
      "text/plain": [
       "list"
      ]
     },
     "execution_count": 9,
     "metadata": {},
     "output_type": "execute_result"
    }
   ],
   "source": [
    "type(dsi_lecture_times['EC']['CHI']['W'])"
   ]
  },
  {
   "cell_type": "markdown",
   "metadata": {},
   "source": [
    "Because it is a `list` and lists are 0-indexed, to capture the time of the 2nd lecture, we'll use `[1]`. So, to directly access the time of the afternoon lecture in Chicago on Wedensdays, we'll use the following:"
   ]
  },
  {
   "cell_type": "code",
   "execution_count": 10,
   "metadata": {},
   "outputs": [
    {
     "data": {
      "text/plain": [
       "2"
      ]
     },
     "execution_count": 10,
     "metadata": {},
     "output_type": "execute_result"
    }
   ],
   "source": [
    "dsi_lecture_times['EC']['CHI']['W'][1]"
   ]
  },
  {
   "cell_type": "markdown",
   "metadata": {},
   "source": [
    "**Don't get overwhelmed trying to go directly to your target.** Drill down through your data one level at a time, and you're less likely to get lost.\n",
    "___\n",
    "\n",
    "Now, let's [dig(lett)](https://pokemondb.net/pokedex/diglett) into some Pokemon data.\n",
    "\n",
    "![diglett](./images/diglett.jpg)\n",
    "\n",
    "Remember, nested dicts aren't aren't [magik(arp)](https://pokemondb.net/pokedex/magikarp).\n",
    "\n",
    "![magikarp](./images/magikarp.jpg)"
   ]
  },
  {
   "cell_type": "markdown",
   "metadata": {},
   "source": [
    "## 1. Defining a player\n",
    "\n",
    "Each player needs to have a set of characteristics, stored in variables, such as an id, a username, play data, etc. A great structure to house these variables is a `dictionary`, because the `values` can contain any python datatype including `list`, `dict`, `tuple`, `int`, `float`, `bool`, or `str`. \n",
    "\n",
    "The player variables are:\n",
    "\n",
    "    player_id : id code unique to each player (integer)\n",
    "    player_name : entered name of the player (string)\n",
    "    time_played : number of time played the game in minutes (float)\n",
    "    player_pokemon: the player's captured pokemon (dictionary)\n",
    "    gyms_visited: ids of the gyms that a player has visited (list)\n",
    "\n",
    "### A) Create a `dict` for a single player.\n",
    "\n",
    "* The variable name should be `player_1`.\n",
    "* The `player_id` should be 1.\n",
    "* Since the player doesn't have a name yet, you may set the `player_name` equal to `None`.\n",
    "* The rest of the fields should be populated properly depending on the datatype."
   ]
  },
  {
   "cell_type": "code",
   "execution_count": 11,
   "metadata": {},
   "outputs": [],
   "source": [
    "# Create a dict for first player with accompanying info\n",
    "player_1 = {\n",
    "    'player_id':1,\n",
    "    'player_name':None,\n",
    "    'time_played':0.0,\n",
    "    'player_pokemon':{},\n",
    "    'gyms_visited':[]\n",
    "}"
   ]
  },
  {
   "cell_type": "markdown",
   "metadata": {},
   "source": [
    "### B) Create a `dict` to house your dataset of players.\n",
    "\n",
    "* The dictionary storing your players should be called `poke_players`.\n",
    "* Because only `player_1` exists, there should only be one `key:value` pair. \n",
    "* The `keys` of this `dict` should be the `player_id`, and the `values` should be the dictionaries with single-player info, including the `player_id` (slightly redundant).\n",
    "\n",
    "Make sure to check that your `poke_players` dictionary looks right after you've added `player_1`. To see the contents of a variable, just run a code cell with the variable name in it."
   ]
  },
  {
   "cell_type": "code",
   "execution_count": 12,
   "metadata": {},
   "outputs": [],
   "source": [
    "# Create a dict to store data set of players\n",
    "poke_players = {\n",
    "    1:player_1,\n",
    "}"
   ]
  },
  {
   "cell_type": "markdown",
   "metadata": {},
   "source": [
    "### C) Update player 1's info with your own.\n",
    "\n",
    "* By indexing your `poke_players` dictionary, update the `player_name` field to your own name.\n",
    "* Display the `poke_players` dict to check your work."
   ]
  },
  {
   "cell_type": "code",
   "execution_count": 13,
   "metadata": {},
   "outputs": [
    {
     "data": {
      "text/plain": [
       "{1: {'player_id': 1,\n",
       "  'player_name': 'Syahiran',\n",
       "  'time_played': 0.0,\n",
       "  'player_pokemon': {},\n",
       "  'gyms_visited': []}}"
      ]
     },
     "execution_count": 13,
     "metadata": {},
     "output_type": "execute_result"
    }
   ],
   "source": [
    "poke_players[1]['player_name']=\"Syahiran\"\n",
    "poke_players"
   ]
  },
  {
   "cell_type": "markdown",
   "metadata": {},
   "source": [
    "### D) Define a function that adds a player to `poke_players`.\n",
    "\n",
    "Your function should...\n",
    "\n",
    "* Take arguments for `players_dict`, `player_id`, and `player_name`.\n",
    "* Create a player with the above values and populate the `gyms_visited`, `player_pokemon`, and `time_played` accordingly.\n",
    "* Add a second player to the `players` dictionary. The id should be 2, but the name is up to you!\n",
    "\n",
    "Display your `poke_players` to check your work."
   ]
  },
  {
   "cell_type": "code",
   "execution_count": 14,
   "metadata": {},
   "outputs": [],
   "source": [
    "# Function that adds player to poke_players dict\n",
    "def add_player(players_dict, player_id, player_name):\n",
    "    players_dict[player_id] = {}\n",
    "    players_dict[player_id]['player_name'] = player_name\n",
    "    players_dict[player_id]['time_played'] = 0.0\n",
    "    players_dict[player_id]['player_pokemon'] = {}\n",
    "    players_dict[player_id]['gyms_visited'] = []"
   ]
  },
  {
   "cell_type": "markdown",
   "metadata": {},
   "source": [
    "### E) Add a new player\n",
    "\n",
    "* Add a second player to the `poke_players` dictionary using the `add_player` function. The `id` should be 2, but the `name` is up to you!\n",
    "* Reassign and overwrite the `poke_players` dictionary.\n",
    "\n",
    "Make sure to display the contents of `poke_players` to check your work."
   ]
  },
  {
   "cell_type": "code",
   "execution_count": 15,
   "metadata": {},
   "outputs": [
    {
     "data": {
      "text/plain": [
       "{1: {'player_id': 1,\n",
       "  'player_name': 'Syahiran',\n",
       "  'time_played': 0.0,\n",
       "  'player_pokemon': {},\n",
       "  'gyms_visited': []},\n",
       " 2: {'player_name': 'Irfan',\n",
       "  'time_played': 0.0,\n",
       "  'player_pokemon': {},\n",
       "  'gyms_visited': []}}"
      ]
     },
     "execution_count": 15,
     "metadata": {},
     "output_type": "execute_result"
    }
   ],
   "source": [
    "# Add second player to poke_players dict\n",
    "add_player(poke_players,2,\"Irfan\")\n",
    "poke_players"
   ]
  },
  {
   "cell_type": "markdown",
   "metadata": {},
   "source": [
    "## 2. Defining \"gym\" locations\n",
    "\n",
    "---\n",
    "\n",
    "As the sole programmer, Pokemon Stay will have to start small. To begin, there will be 10 different gym location websites on the internet. The gym locations are:\n",
    "\n",
    "    1. 'reddit.com'\n",
    "    2. 'amazon.com'\n",
    "    3. 'twitter.com'\n",
    "    4. 'linkedin.com'\n",
    "    5. 'ebay.com'\n",
    "    6. 'netflix.com'\n",
    "    7. 'stackoverflow.com'\n",
    "    8. 'github.com'\n",
    "    9. 'quora.com'\n",
    "    10. 'google.com'\n",
    "\n",
    "* Set up a list of all the gym locations. This will be a list of strings. Print the list to check your work.\n",
    "* For each player in `poke_players`, use `sample` (imported from `random` below) to randomly select 2 gyms and add these gyms to the `gyms_visited` field.\n",
    "* Display the `poke_players` dict to check your work."
   ]
  },
  {
   "cell_type": "code",
   "execution_count": 16,
   "metadata": {},
   "outputs": [],
   "source": [
    "from random import sample\n",
    "\n",
    "# List of all gym locations\n",
    "gym_locations = ['reddit.com', 'amazon.com', 'twitter.com', 'linkedin.com', 'ebay.com', 'netflix.com', 'stackoverflow.com', 'github.com', 'quora.com', 'google.com']\n"
   ]
  },
  {
   "cell_type": "code",
   "execution_count": 17,
   "metadata": {},
   "outputs": [
    {
     "data": {
      "text/plain": [
       "['apple', 1, 0.8]"
      ]
     },
     "execution_count": 17,
     "metadata": {},
     "output_type": "execute_result"
    }
   ],
   "source": [
    "# Run this cell a few times to understand sample. Play around with the function!\n",
    "this_list = ['apple', 1, ('a','b','c'), 0.8]\n",
    "sample(this_list, 3)"
   ]
  },
  {
   "cell_type": "code",
   "execution_count": 18,
   "metadata": {},
   "outputs": [
    {
     "data": {
      "text/plain": [
       "{1: {'player_id': 1,\n",
       "  'player_name': 'Syahiran',\n",
       "  'time_played': 0.0,\n",
       "  'player_pokemon': {},\n",
       "  'gyms_visited': ['linkedin.com', 'amazon.com']},\n",
       " 2: {'player_name': 'Irfan',\n",
       "  'time_played': 0.0,\n",
       "  'player_pokemon': {},\n",
       "  'gyms_visited': ['netflix.com', 'amazon.com']}}"
      ]
     },
     "execution_count": 18,
     "metadata": {},
     "output_type": "execute_result"
    }
   ],
   "source": [
    "# Use 'sample' method to randomly select and add two gyms for each player\n",
    "poke_players[1]['gyms_visited'] = sample(gym_locations, 2)\n",
    "poke_players[2]['gyms_visited'] = sample(gym_locations, 2)\n",
    "poke_players"
   ]
  },
  {
   "cell_type": "markdown",
   "metadata": {},
   "source": [
    "## 3. Create a Pokedex\n",
    "\n",
    "We also need to create some Pokemon to catch! Let's store the attributes of each Pokemon in a `dictionary`, since each Pokemon has many characteristics we'd like to store.\n",
    "\n",
    "\n",
    "Each Pokemon will be defined by these variables:\n",
    "\n",
    "    poke_id : unique identifier for each Pokemon (integer, sequential)\n",
    "    poke_name : the name of the Pokemon (string)\n",
    "    poke_type : the category of Pokemon (string)\n",
    "    hp : base hit points (integer between 400 and 500)\n",
    "    attack : base attack (integer between 50 and 100)\n",
    "    defense : base defense (integer between 50 and 100)\n",
    "    special_attack : base special attack (integer between 100 and 150)\n",
    "    special_defense : base special defense (integer between 100 and 150)\n",
    "    speed : base speed (integer between 0 and 100)\n",
    "\n",
    "### A) Create a function called `create_pokemon`\n",
    "\n",
    "* The function should take arguments for `poke_id`, `poke_name`, and `poke_type`.\n",
    "* Use `np.random.randint` to generate values for the numeric attributes based on the conditions above. If you're not clear on how this function works, there is a cell below with an example. Play around with it!\n",
    "* The function should return a `dict` for the Pokemon.\n",
    "* Without assigning it to a variable, check the function's output by calling it with the following arguments:\n",
    "  * `poke_id = 1`\n",
    "  * `poke_name = 'charmander'`\n",
    "  * `poke_type = 'fire'`"
   ]
  },
  {
   "cell_type": "code",
   "execution_count": 19,
   "metadata": {},
   "outputs": [],
   "source": [
    "import numpy as np"
   ]
  },
  {
   "cell_type": "code",
   "execution_count": 20,
   "metadata": {},
   "outputs": [
    {
     "data": {
      "text/plain": [
       "9"
      ]
     },
     "execution_count": 20,
     "metadata": {},
     "output_type": "execute_result"
    }
   ],
   "source": [
    "# Play around with this cell to understand np.random.randint!\n",
    "np.random.randint(0,10)"
   ]
  },
  {
   "cell_type": "code",
   "execution_count": 21,
   "metadata": {},
   "outputs": [
    {
     "data": {
      "text/plain": [
       "{'poke_id': 1,\n",
       " 'poke_name': 'charmander',\n",
       " 'poke_type': 'fire',\n",
       " 'hp': 432,\n",
       " 'attack': 85,\n",
       " 'defense': 59,\n",
       " 'special_attack': 102,\n",
       " 'special_defense': 127,\n",
       " 'speed': 79}"
      ]
     },
     "execution_count": 21,
     "metadata": {},
     "output_type": "execute_result"
    }
   ],
   "source": [
    "# Function to create a pokemon with id, name, type as arguments\n",
    "def create_pokemon(poke_id, poke_name, poke_type):\n",
    "    dict = {\n",
    "        'poke_id':poke_id,\n",
    "        'poke_name':poke_name,\n",
    "        'poke_type':poke_type,\n",
    "        'hp':np.random.randint(400,500),\n",
    "        'attack':np.random.randint(50,100),\n",
    "        'defense':np.random.randint(50,100),\n",
    "        'special_attack':np.random.randint(100,150),\n",
    "        'special_defense':np.random.randint(100,150),\n",
    "        'speed':np.random.randint(0,100)\n",
    "    }\n",
    "    return dict\n",
    "\n",
    "# Create first pokemon\n",
    "create_pokemon(1,'charmander','fire')"
   ]
  },
  {
   "cell_type": "markdown",
   "metadata": {},
   "source": [
    "### B) Populate the `pokedex`!\n",
    "\n",
    "Now we need some Pokemon to catch. Let's create a dictionary to store the information!\n",
    "\n",
    "* Instantiate an empty dictionary called `pokedex`.\n",
    "* Define a function called `create_and_add_to_pokedex`. This function should...\n",
    "  * Take arguments for `pokedex`,  `poke_id`, `poke_name`, and `poke_type`.\n",
    "  * Uses the `create_pokemon` function you created earlier to create a pokemon using the provided `poke_id`, `poke_name`, and `poke_type`.\n",
    "  * Add a new `key:value` pair to the `pokedex` dictionary where:\n",
    "    * the `key` is the `poke_id`, and\n",
    "    * the `value` is the newly-created pokemon dict, including the `poke_id` (this is slightly redundant, but that's ok!)\n",
    "  * Prints the name of the Pokemon added to the Pokedex using `str.format()`\n",
    "* Add the following 3 Pokemon to your `pokedex` using `create_and_add_to_pokedex`:\n",
    "\n",
    "|Id|Name|Type|\n",
    "|---|---|---|\n",
    "|1|charmander|fire|\n",
    "|2|squirtle|water|\n",
    "|3|bulbasaur|poison|\n",
    "\n",
    "Display your `pokedex` to check your work. It should look something like...\n",
    "\n",
    "```python\n",
    "{1: {'attack': 64,\n",
    "  'defense': 59,\n",
    "  'hp': 495,\n",
    "  'poke_id': 1,\n",
    "  'poke_name': 'charmander',\n",
    "  'poke_type': 'fire',\n",
    "  'special_attack': 100,\n",
    "  ...\n",
    "```"
   ]
  },
  {
   "cell_type": "code",
   "execution_count": 22,
   "metadata": {},
   "outputs": [],
   "source": [
    "# Initialise pokedex as empty dict\n",
    "pokedex = {}"
   ]
  },
  {
   "cell_type": "code",
   "execution_count": 23,
   "metadata": {},
   "outputs": [
    {
     "name": "stdout",
     "output_type": "stream",
     "text": [
      "Charmander has been added to the pokedex!\n",
      "Squirtle has been added to the pokedex!\n",
      "Bulbasaur has been added to the pokedex!\n"
     ]
    },
    {
     "data": {
      "text/plain": [
       "{1: {'poke_id': 1,\n",
       "  'poke_name': 'charmander',\n",
       "  'poke_type': 'fire',\n",
       "  'hp': 421,\n",
       "  'attack': 87,\n",
       "  'defense': 73,\n",
       "  'special_attack': 147,\n",
       "  'special_defense': 105,\n",
       "  'speed': 97},\n",
       " 2: {'poke_id': 2,\n",
       "  'poke_name': 'squirtle',\n",
       "  'poke_type': 'water',\n",
       "  'hp': 444,\n",
       "  'attack': 58,\n",
       "  'defense': 54,\n",
       "  'special_attack': 147,\n",
       "  'special_defense': 137,\n",
       "  'speed': 90},\n",
       " 3: {'poke_id': 3,\n",
       "  'poke_name': 'bulbasaur',\n",
       "  'poke_type': 'poison',\n",
       "  'hp': 467,\n",
       "  'attack': 70,\n",
       "  'defense': 88,\n",
       "  'special_attack': 132,\n",
       "  'special_defense': 143,\n",
       "  'speed': 40}}"
      ]
     },
     "execution_count": 23,
     "metadata": {},
     "output_type": "execute_result"
    }
   ],
   "source": [
    "# Function to create and add pokemon to pokedex with id, name, type as arguments\n",
    "def create_and_add_to_pokedex(pokedex, poke_id, poke_name, poke_type):\n",
    "    new_pokemon = create_pokemon(poke_id,poke_name,poke_type)\n",
    "    pokedex[poke_id] = new_pokemon\n",
    "    print(f\"{poke_name.title()} has been added to the pokedex!\")\n",
    "\n",
    "create_and_add_to_pokedex(pokedex,1,'charmander','fire')\n",
    "create_and_add_to_pokedex(pokedex,2,'squirtle','water')\n",
    "create_and_add_to_pokedex(pokedex,3,'bulbasaur','poison')\n",
    "\n",
    "pokedex"
   ]
  },
  {
   "cell_type": "markdown",
   "metadata": {},
   "source": [
    "## 4. Let's capture some Pokemon!\n",
    "\n",
    "The `player_pokemon` keyed dictionaries for each player keep track of which of the Pokemon each player has.\n",
    "\n",
    "The keys of the `player_pokemon` dictionaries are the Pokemon ids that correspond to the ids in the `pokedex` dictionary you created earlier, and the values are the individual Pokemon dicts. Just like your `pokedex`, but for each player individually!\n",
    "\n",
    "* Define a function called `add_pokemon_to_player` that...\n",
    "  * Takes arguents for `player_id`, `poke_id`, `player_dict`, and `pokedex`.\n",
    "  * Adds the desired pokemon to the `player_pokemon` field of the specified player\n",
    "  * Prints which pokemon was added to which player.\n",
    "* Use your function to add squirtle to player 1, and add charmander and bulbasaur to player 2\n",
    "* Display your `poke_players` to check your work."
   ]
  },
  {
   "cell_type": "code",
   "execution_count": 24,
   "metadata": {},
   "outputs": [],
   "source": [
    "# Function to assign pokemon to player with player_id, poke_id, player_dict and pokedex_dict as arguments\n",
    "def add_pokemon_to_player(player_id, poke_id, player_dict, pokedex):\n",
    "    player_dict[player_id]['player_pokemon'][poke_id]=pokedex[poke_id]\n",
    "    print(f\"{pokedex[poke_id]['poke_name'].title()} was added to {player_dict[player_id]['player_name']}'s pokedex.\")"
   ]
  },
  {
   "cell_type": "markdown",
   "metadata": {},
   "source": [
    "* Call your function three times to add\n",
    "    * squirtle to player 1\n",
    "    * charmander to player 2\n",
    "    * bulbasaur to player 2\n",
    "* Overwrite your poke_player variable each time with the updated dictionary.\n",
    "* Display the contents of poke_players to check your work."
   ]
  },
  {
   "cell_type": "code",
   "execution_count": 25,
   "metadata": {},
   "outputs": [
    {
     "name": "stdout",
     "output_type": "stream",
     "text": [
      "Squirtle was added to Syahiran's pokedex.\n",
      "Charmander was added to Irfan's pokedex.\n",
      "Bulbasaur was added to Irfan's pokedex.\n"
     ]
    },
    {
     "data": {
      "text/plain": [
       "{1: {'player_id': 1,\n",
       "  'player_name': 'Syahiran',\n",
       "  'time_played': 0.0,\n",
       "  'player_pokemon': {2: {'poke_id': 2,\n",
       "    'poke_name': 'squirtle',\n",
       "    'poke_type': 'water',\n",
       "    'hp': 444,\n",
       "    'attack': 58,\n",
       "    'defense': 54,\n",
       "    'special_attack': 147,\n",
       "    'special_defense': 137,\n",
       "    'speed': 90}},\n",
       "  'gyms_visited': ['linkedin.com', 'amazon.com']},\n",
       " 2: {'player_name': 'Irfan',\n",
       "  'time_played': 0.0,\n",
       "  'player_pokemon': {1: {'poke_id': 1,\n",
       "    'poke_name': 'charmander',\n",
       "    'poke_type': 'fire',\n",
       "    'hp': 421,\n",
       "    'attack': 87,\n",
       "    'defense': 73,\n",
       "    'special_attack': 147,\n",
       "    'special_defense': 105,\n",
       "    'speed': 97},\n",
       "   3: {'poke_id': 3,\n",
       "    'poke_name': 'bulbasaur',\n",
       "    'poke_type': 'poison',\n",
       "    'hp': 467,\n",
       "    'attack': 70,\n",
       "    'defense': 88,\n",
       "    'special_attack': 132,\n",
       "    'special_defense': 143,\n",
       "    'speed': 40}},\n",
       "  'gyms_visited': ['netflix.com', 'amazon.com']}}"
      ]
     },
     "execution_count": 25,
     "metadata": {},
     "output_type": "execute_result"
    }
   ],
   "source": [
    "# Add squirtle to player 1\n",
    "add_pokemon_to_player(1,2,poke_players,pokedex)\n",
    "poke_players\n",
    "\n",
    "# Add charmander to player 2\n",
    "add_pokemon_to_player(2,1,poke_players,pokedex)\n",
    "poke_players\n",
    "\n",
    "# Add bulbasaur to player 2\n",
    "add_pokemon_to_player(2,3,poke_players,pokedex)\n",
    "poke_players"
   ]
  },
  {
   "cell_type": "markdown",
   "metadata": {},
   "source": [
    "## 5. What gyms have players visited?\n",
    "\n",
    "### A) Checking gyms\n",
    "\n",
    "Write a for-loop that:\n",
    "\n",
    "1. Iterates through the `pokemon_gyms` list of gym locations you defined before.\n",
    "2. For each gym, iterate through each player in the `players` dictionary with a second, internal for-loop.\n",
    "3. If the player has visited the gym, print out \"[player] has visited [gym location].\", filling in [player] and [gym location] with the current player's name and current gym location."
   ]
  },
  {
   "cell_type": "code",
   "execution_count": 26,
   "metadata": {},
   "outputs": [
    {
     "name": "stdout",
     "output_type": "stream",
     "text": [
      "Syahiran has visited amazon.com.\n",
      "Irfan has visited amazon.com.\n",
      "Syahiran has visited linkedin.com.\n",
      "Irfan has visited netflix.com.\n"
     ]
    }
   ],
   "source": [
    "for gym in gym_locations: #iterate through each gym\n",
    "    for id, profile in poke_players.items(): #iterate through each player\n",
    "        if gym in profile['gyms_visited']: #check if the current gym is present in the player's list of gyms visited\n",
    "            print(f\"{profile['player_name']} has visited {gym}.\") #if true print sentence"
   ]
  },
  {
   "cell_type": "markdown",
   "metadata": {},
   "source": [
    "### B) Computational Complexity\n",
    "\n",
    "How many times did that loop run? If you have N gyms and also M players, how many times would it run as a function of N and M? \n",
    "\n",
    "(You can write your answer as Markdown text.)"
   ]
  },
  {
   "cell_type": "code",
   "execution_count": 27,
   "metadata": {},
   "outputs": [],
   "source": [
    "#Loop ran N*M times."
   ]
  },
  {
   "cell_type": "markdown",
   "metadata": {},
   "source": [
    "## 6. Calculate player \"power\".\n",
    "\n",
    "Define a function that will calculate a player's \"power\". Player power is defined as the sum of the base statistics all of their Pokemon.\n",
    "\n",
    "$$\n",
    "\\text{player power } = \\sum_{i = 1}^{n}\\text{attack}_i + \\text{defense}_i + \\text{special attack}_i + \\text{special defense}_i\n",
    "$$\n",
    "\n",
    "Where $i$ is an individual Pokemon in a player's `player_pokemon`. ($\\sum$ just means sum, so you're just adding up all the attributes listed above for all the Pokemon in the player's `player_pokemon`).\n",
    "\n",
    "Your function should:\n",
    "\n",
    "*  Accept a `poke_players` dictionary and a `player_id` as arguments.\n",
    "*  For the specified player_id, look up that player's Pokemon.\n",
    "*  Find and aggregate the attack and defense values for each of the player's Pokemon.\n",
    "*  Print \"[player name]'s power is [player power].\", where the player power is the sum of the base statistics for all of their Pokemon.\n",
    "*  Return the player's power value.\n",
    "\n",
    "Check your work by displaying Pokemon power for each of your players."
   ]
  },
  {
   "cell_type": "code",
   "execution_count": 28,
   "metadata": {},
   "outputs": [
    {
     "name": "stdout",
     "output_type": "stream",
     "text": [
      "Syahiran's power is 396.\n",
      "Irfan's power is 845.\n"
     ]
    },
    {
     "data": {
      "text/plain": [
       "845"
      ]
     },
     "execution_count": 28,
     "metadata": {},
     "output_type": "execute_result"
    }
   ],
   "source": [
    "def get_power(player_id, player_dict):\n",
    "    power_value = 0\n",
    "    for poke_id, stats in player_dict[player_id]['player_pokemon'].items(): #for each pokemon's id,stats pair in player's pokemon_dict\n",
    "        power_value += stats['attack']+stats['defense']+stats['special_attack']+stats['special_defense'] #add sum of all current pokemon's base stats to power_value\n",
    "    print(f\"{player_dict[player_id]['player_name']}'s power is {str(power_value)}.\") #exit loop to print player's total power_value\n",
    "    return power_value\n",
    "\n",
    "get_power(1, poke_players)\n",
    "get_power(2, poke_players)"
   ]
  },
  {
   "cell_type": "markdown",
   "metadata": {},
   "source": [
    "## 7. Load a Pokedex file containing all the Pokemon\n",
    "\n",
    "### Load data using the `with open()` method.\n",
    "\n",
    "While you were putting together the prototype code, your colleagues were preparing a dataset of Pokemon and their attributes (This was a rush job, so they may have picked some crazy values for some...). Your task is to load the data into a list of lists so you can manipulate it.\n",
    "\n",
    "* The `type` of the data should be a `list`\n",
    "  * The `type` of each element in that list should be a `list`\n",
    "    * The `type` of each element in the sub-list should be `str` or `float`.\n",
    "\n",
    "The code provided loads the data into one looooong `str`. To get it into the correct format:\n",
    "* Use `your_string.replace()` to remove `\"`, where `your_string` is any object of type `str`. \n",
    "* Use `your_string.split()` to create a new row for each line. New lines are denoted with a `'\\n'`.\n",
    "* Iterate through your data. Use `try/except` to cast numeric data as type `float`. \n",
    "\n",
    "Your end result is effectively a matrix. Each list $i$ in the outer list is a row, and the $j$th elements of list together form the *j*th column, which represents a data attribute. The first three lists in your Pokedex list should look like this:\n",
    "\n",
    "    ['PokedexNumber', 'Name', 'Type', 'Total', 'HP', 'Attack', 'Defense', 'SpecialAttack', 'SpecialDefense', 'Speed']\n",
    "    [1.0, 'Bulbasaur', 'GrassPoison', 318.0, 45.0, 49.0, 49.0, 65.0, 65.0, 45.0]\n",
    "    [2.0, 'Ivysaur', 'GrassPoison', 405.0, 60.0, 62.0, 63.0, 80.0, 80.0, 60.0]\n",
    "    \n",
    "**WARNING:** Don't print or display your entire new pokedex! Viewing that many entries will clog up your notebook and make it difficult to read."
   ]
  },
  {
   "cell_type": "code",
   "execution_count": 29,
   "metadata": {},
   "outputs": [],
   "source": [
    "# Code to read in pokedex info\n",
    "raw_pd = ''\n",
    "pokedex_file = 'pokedex_basic.csv'\n",
    "with open(pokedex_file, 'r') as f:\n",
    "    raw_pd = f.read()\n",
    "    \n",
    "# the pokedex string is assigned to the raw_pd variable"
   ]
  },
  {
   "cell_type": "code",
   "execution_count": 30,
   "metadata": {},
   "outputs": [
    {
     "name": "stdout",
     "output_type": "stream",
     "text": [
      "[1.0, 'Bulbasaur', 'GrassPoison', 318.0, 45.0, 49.0, 49.0, 65.0, 65.0, 45.0]\n",
      "[2.0, 'Ivysaur', 'GrassPoison', 405.0, 60.0, 62.0, 63.0, 80.0, 80.0, 60.0]\n",
      "[3.0, 'Venusaur', 'GrassPoison', 525.0, 80.0, 82.0, 83.0, 100.0, 100.0, 80.0]\n",
      "[3.0, 'VenusaurMega Venusaur', 'GrassPoison', 625.0, 80.0, 100.0, 123.0, 122.0, 120.0, 80.0]\n",
      "[4.0, 'Charmander', 'Fire', 309.0, 39.0, 52.0, 43.0, 60.0, 50.0, 65.0]\n",
      "[5.0, 'Charmeleon', 'Fire', 405.0, 58.0, 64.0, 58.0, 80.0, 65.0, 80.0]\n",
      "[6.0, 'Charizard', 'FireFlying', 534.0, 78.0, 84.0, 78.0, 109.0, 85.0, 100.0]\n",
      "[6.0, 'CharizardMega Charizard X', 'FireDragon', 634.0, 78.0, 130.0, 111.0, 130.0, 85.0, 100.0]\n",
      "[6.0, 'CharizardMega Charizard Y', 'FireFlying', 634.0, 78.0, 104.0, 78.0, 159.0, 115.0, 100.0]\n",
      "[7.0, 'Squirtle', 'Water', 314.0, 44.0, 48.0, 65.0, 50.0, 64.0, 43.0]\n"
     ]
    }
   ],
   "source": [
    "new_pd = []\n",
    "\n",
    "string = raw_pd.replace('\"','') #remove commas\n",
    "working_lst = string.split(\"\\n\") #convert string to an outer list of strings representing each row, separated by '\\n'\n",
    "\n",
    "for i in working_lst: #iterate through each string in the outer list\n",
    "    new_pd.append(i.split(\",\")) #convert each string to an inner list separated by comma\n",
    "\n",
    "for lst in new_pd: #iterate through each inner list\n",
    "    for j in range(len(lst)): #iterate through each string in the inner list\n",
    "        try: #convert string to float if possible\n",
    "            lst[j] = float(lst[j])\n",
    "        except:\n",
    "            continue\n",
    "\n",
    "print(new_pd[1])\n",
    "print(new_pd[2])\n",
    "print(new_pd[3])\n",
    "print(new_pd[4])\n",
    "print(new_pd[5])\n",
    "print(new_pd[6])\n",
    "print(new_pd[7])\n",
    "print(new_pd[8])\n",
    "print(new_pd[9])\n",
    "print(new_pd[10])"
   ]
  },
  {
   "cell_type": "markdown",
   "metadata": {},
   "source": [
    "## 8. Changing Types\n",
    "\n",
    "### A) Convert your data into a dictionary.\n",
    "\n",
    "Your `dict` should...\n",
    "* have `keys` of the new `pokedex` as the `PokedexNumber`\n",
    "* have `values` containing data for each pokemon in a dictionary form, just like our `pokedex` from before\n",
    "  * Keep in mind, the `keys` here are a little bit different than the original `pokedex`.\n",
    "  * Be careful of the header, you do not want to include that as a Pokemon.\n",
    "* **WARNING:** Don't display your entire `pokedex` when turning this in! Viewing that many entries will clog up your notebook and make it difficult to read. If you'd like to visualize your `pokedex`, index with a few of its `keys`.\n",
    "\n",
    "Your `new_pd_dict` should be organized like...\n",
    "\n",
    "```python\n",
    "{1.0: {'Attack': 49.0,\n",
    "  'Defense': 49.0,\n",
    "  'HP': 45.0,\n",
    "  'Name': 'Bulbasaur',\n",
    "  'PokedexNumber': 1.0,\n",
    "  'SpecialAttack': 65.0,\n",
    "  'SpecialDefense': 65.0,\n",
    "  'Speed': 45.0,\n",
    "  'Total': 318.0,\n",
    "  'Type': 'GrassPoison'},\n",
    " 2.0: {'Attack': 62.0,\n",
    "  'Defense': 63.0,\n",
    "  'HP': 60.0,\n",
    "  'Name': 'Ivysaur',\n",
    "```"
   ]
  },
  {
   "cell_type": "code",
   "execution_count": 31,
   "metadata": {},
   "outputs": [
    {
     "name": "stdout",
     "output_type": "stream",
     "text": [
      "{'PokedexNumber': 1.0, 'Name': 'Bulbasaur', 'Type': 'GrassPoison', 'Total': 318.0, 'HP': 45.0, 'Attack': 49.0, 'Defense': 49.0, 'SpecialAttack': 65.0, 'SpecialDefense': 65.0, 'Speed': 45.0}\n",
      "{'PokedexNumber': 2.0, 'Name': 'Ivysaur', 'Type': 'GrassPoison', 'Total': 405.0, 'HP': 60.0, 'Attack': 62.0, 'Defense': 63.0, 'SpecialAttack': 80.0, 'SpecialDefense': 80.0, 'Speed': 60.0}\n",
      "{'PokedexNumber': 3.0, 'Name': 'VenusaurMega Venusaur', 'Type': 'GrassPoison', 'Total': 625.0, 'HP': 80.0, 'Attack': 100.0, 'Defense': 123.0, 'SpecialAttack': 122.0, 'SpecialDefense': 120.0, 'Speed': 80.0}\n",
      "{'PokedexNumber': 4.0, 'Name': 'Charmander', 'Type': 'Fire', 'Total': 309.0, 'HP': 39.0, 'Attack': 52.0, 'Defense': 43.0, 'SpecialAttack': 60.0, 'SpecialDefense': 50.0, 'Speed': 65.0}\n",
      "{'PokedexNumber': 5.0, 'Name': 'Charmeleon', 'Type': 'Fire', 'Total': 405.0, 'HP': 58.0, 'Attack': 64.0, 'Defense': 58.0, 'SpecialAttack': 80.0, 'SpecialDefense': 65.0, 'Speed': 80.0}\n",
      "{'PokedexNumber': 6.0, 'Name': 'CharizardMega Charizard Y', 'Type': 'FireFlying', 'Total': 634.0, 'HP': 78.0, 'Attack': 104.0, 'Defense': 78.0, 'SpecialAttack': 159.0, 'SpecialDefense': 115.0, 'Speed': 100.0}\n",
      "{'PokedexNumber': 7.0, 'Name': 'Squirtle', 'Type': 'Water', 'Total': 314.0, 'HP': 44.0, 'Attack': 48.0, 'Defense': 65.0, 'SpecialAttack': 50.0, 'SpecialDefense': 64.0, 'Speed': 43.0}\n",
      "{'PokedexNumber': 8.0, 'Name': 'Wartortle', 'Type': 'Water', 'Total': 405.0, 'HP': 59.0, 'Attack': 63.0, 'Defense': 80.0, 'SpecialAttack': 65.0, 'SpecialDefense': 80.0, 'Speed': 58.0}\n",
      "{'PokedexNumber': 9.0, 'Name': 'BlastoiseMega Blastoise', 'Type': 'Water', 'Total': 630.0, 'HP': 79.0, 'Attack': 103.0, 'Defense': 120.0, 'SpecialAttack': 135.0, 'SpecialDefense': 115.0, 'Speed': 78.0}\n",
      "{'PokedexNumber': 10.0, 'Name': 'Caterpie', 'Type': 'Bug', 'Total': 195.0, 'HP': 45.0, 'Attack': 30.0, 'Defense': 35.0, 'SpecialAttack': 20.0, 'SpecialDefense': 20.0, 'Speed': 45.0}\n"
     ]
    }
   ],
   "source": [
    "new_pd_dict = {} # empty dict to append to\n",
    "\n",
    "for row in new_pd: # for each row in new_pd\n",
    "    if row == new_pd[0]: # skip the first row of headers\n",
    "        continue\n",
    "    else:\n",
    "        poke = {i:j for i,j in zip(new_pd[0], row)} # goes through each subsequent row and uses the header to create keys\n",
    "        new_pd_dict[poke['PokedexNumber']] = poke # assign PokedexNumber as key and pokemon (dict) as value\n",
    "\n",
    "print(new_pd_dict[1])\n",
    "print(new_pd_dict[2])\n",
    "print(new_pd_dict[3])\n",
    "print(new_pd_dict[4])\n",
    "print(new_pd_dict[5])\n",
    "print(new_pd_dict[6])\n",
    "print(new_pd_dict[7])\n",
    "print(new_pd_dict[8])\n",
    "print(new_pd_dict[9])\n",
    "print(new_pd_dict[10])"
   ]
  },
  {
   "cell_type": "markdown",
   "metadata": {},
   "source": [
    "### B) (OPTIONAL) Orient your `new_pd_dict` by columns.\n",
    "\n",
    "Your new Pokedex is oriented by index, meaning that each entry is a row value. Your goal in this exercise is to orient the Pokedex dict by columns, meaning:\n",
    "\n",
    "* The keys of the dictionary are the column names\n",
    "* The values of the dictionary are a **column vector** of that feature.\n",
    "* **HINT:** Read documentation on `defaultdict` (`from collections import defaultdict`), this may help!\n",
    "* **BONUS:** Do this with list and/or dictionary comprehensions only"
   ]
  },
  {
   "cell_type": "code",
   "execution_count": 32,
   "metadata": {},
   "outputs": [],
   "source": [
    "from collections import defaultdict\n",
    "\n",
    "new_pd_dict_transposed = defaultdict(list) #provides default list for key that does not exist\n",
    "\n",
    "for i in new_pd_dict.keys(): #iterate through the keys in new_pd_dict\n",
    "    for key,value in new_pd_dict[i].items(): #for each key,value pair in each pokemon's dict\n",
    "        new_pd_dict_transposed[key].append(value) #assign each header as key, while corresponding value is a list of corresponding elements"
   ]
  },
  {
   "cell_type": "code",
   "execution_count": 37,
   "metadata": {},
   "outputs": [],
   "source": [
    "# using a regular dict instead of defaultdict\n",
    "\n",
    "temp_dict = {}\n",
    "\n",
    "for i in new_pd_dict.keys(): #iterate through the keys in new_pd_dict\n",
    "    for key,value in new_pd_dict[i].items(): #for each key,value pair in each pokemon's dict\n",
    "        if key not in temp_dict.keys():\n",
    "            temp_dict[key]=[]\n",
    "        temp_dict[key].append(value)"
   ]
  },
  {
   "cell_type": "markdown",
   "metadata": {},
   "source": [
    "## 9. (OPTIONAL) Write a function to filter your pokedex!\n",
    "\n",
    "Your goal in this exercise is to search your Pokedex based on your own defined criteria! Build a function that...\n",
    "\n",
    "* Takes arguments of: \n",
    "  * a pokedex dict (can be either the row or column oriented dict, pick the one of your choice!)\n",
    "  * a `filter_options` dict (described below)\n",
    "* For parameters in your `filter_dict`, your function should return:\n",
    "  * pokemon that are >= (greater than or equal to) the value you passed in your `filter_dict` for that field for continuous values\n",
    "  * pokemon of that name or type for string values (equal)\n",
    "* Return a list of the individual pokemon dictionaries that meet your search criteria!\n",
    "\n",
    "Example:\n",
    "\n",
    "```python\n",
    "\n",
    "# Only filter based on parameters passed\n",
    "filter_options = {\n",
    "    'Attack':   25,\n",
    "    'Defense':  30,\n",
    "    'Type':     'Electric'\n",
    "}\n",
    "\n",
    "# Return records with attack >= 24, defense >= 30, and type == \"Electric\"\n",
    "# Also anticipate that other parameters can also be passed such as \"SpecialAttack\", \"Speed\", etc.\n",
    "filtered_pokedex(pokedex_data, filter=filter_options)\n",
    "\n",
    "# Example output:\n",
    "# [{'Attack': 30.0,\n",
    "#  'Defense': 50.0,\n",
    "#  'HP': 40.0,\n",
    "#  'Name': 'Voltorb',\n",
    "#  'SpecialAttack': 55.0,\n",
    "#  'SpecialDefense': 55.0,\n",
    "#  'Speed': 100.0,\n",
    "#  'Total': 330.0,\n",
    "#  'Type': 'Electric'},\n",
    "#  {'Attack': 30.0,\n",
    "#  'Defense': 33.0,\n",
    "#  'HP': 32.0,\n",
    "#  'Name': 'Pikachu',\n",
    "#  'SpecialAttack': 55.0,\n",
    "#  'SpecialDefense': 55.0,\n",
    "#  'Speed': 100.0,\n",
    "#  'Total': 330.0,\n",
    "#  'Type': 'Electric'},\n",
    "#  ... etc\n",
    "#  ]\n",
    "\n",
    "```\n",
    "\n"
   ]
  },
  {
   "cell_type": "code",
   "execution_count": 34,
   "metadata": {},
   "outputs": [
    {
     "data": {
      "text/plain": [
       "[{'PokedexNumber': 251.0,\n",
       "  'Name': 'Celebi',\n",
       "  'Type': 'PsychicGrass',\n",
       "  'Total': 600.0,\n",
       "  'HP': 100.0,\n",
       "  'Attack': 100.0,\n",
       "  'Defense': 100.0,\n",
       "  'SpecialAttack': 100.0,\n",
       "  'SpecialDefense': 100.0,\n",
       "  'Speed': 100.0},\n",
       " {'PokedexNumber': 470.0,\n",
       "  'Name': 'Leafeon',\n",
       "  'Type': 'Grass',\n",
       "  'Total': 525.0,\n",
       "  'HP': 65.0,\n",
       "  'Attack': 110.0,\n",
       "  'Defense': 130.0,\n",
       "  'SpecialAttack': 60.0,\n",
       "  'SpecialDefense': 65.0,\n",
       "  'Speed': 95.0}]"
      ]
     },
     "execution_count": 34,
     "metadata": {},
     "output_type": "execute_result"
    }
   ],
   "source": [
    "# Only filter based on parameters passed\n",
    "filter_options = {\n",
    "    'Type': 'Grass',\n",
    "    'Attack': 90,\n",
    "    'Defense': 90,\n",
    "    'Speed': 90\n",
    "}\n",
    "\n",
    "# Return records with attack >= 25, defense >= 30, and type == \"Fire\"\n",
    "# Also anticipate that other parameters can also be passed such as \"SpecialAttack\", \"Speed\", etc.\n",
    "def filtered_pokedex(pokedex_data, filter_options):\n",
    "    result = []\n",
    "\n",
    "    for id,stats in pokedex_data.items():\n",
    "        bool_list = []\n",
    "        \n",
    "        for stat,val in filter_options.items():\n",
    "            if isinstance(stats[stat], float) and stats[stat] > float(val-1):\n",
    "                bool_list.append(1)\n",
    "            elif isinstance(stats[stat], float) and stats[stat] < float(val):\n",
    "                bool_list.append(0)\n",
    "            elif isinstance(stats[stat], str) and val in stats[stat]:\n",
    "                bool_list.append(1)\n",
    "            elif isinstance(stats[stat], str) and val not in stats[stat]:\n",
    "                bool_list.append(0)\n",
    "        if 0 not in bool_list:\n",
    "            result.append(stats)\n",
    "    return result\n",
    "\n",
    "filtered_pokedex(new_pd_dict,filter_options)"
   ]
  }
 ],
 "metadata": {
  "anaconda-cloud": {},
  "kernelspec": {
   "display_name": "Python 3",
   "language": "python",
   "name": "python3"
  },
  "language_info": {
   "codemirror_mode": {
    "name": "ipython",
    "version": 3
   },
   "file_extension": ".py",
   "mimetype": "text/x-python",
   "name": "python",
   "nbconvert_exporter": "python",
   "pygments_lexer": "ipython3",
   "version": "3.11.5"
  }
 },
 "nbformat": 4,
 "nbformat_minor": 4
}
