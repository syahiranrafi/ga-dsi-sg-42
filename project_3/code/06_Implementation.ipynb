{
 "cells": [
  {
   "cell_type": "markdown",
   "metadata": {},
   "source": [
    "# 06_Implementation\n",
    "\n",
    "This notebook provides an end-to-end demonstration of the process for scraping, cleaning, preprocessing, and predicting comments gathered from subreddit submissions to determine if the submission should be labeled as \"misinformation.\" It serves as a proof of concept (POC) implementation to showcase the backend process for producing a \"misinformation\" alert on the monitoring dashboard suggested for the subreddit moderator.\n",
    "\n",
    "The alert is triggered based on the aggregation of prediction outcomes for each comment within a submission. If more than 55% of the comments predicted for a submission are classified as misinformation, the dashboard will display an \"Alert,\" signaling the moderator to prioritize review and potential moderation actions if necessary. 55% is a configurable threshold, which should be reviewed and adjusted periodically for its effectiveness and accuracy over time. \n",
    "\n",
    "For illustration purposes, comments on the submissions to subreddit 'r/politics' will be used for the implementation. r/politics is a subreddit for news and discussion about U.S. politics. It serves as a forum for users to share and discuss political news, opinions, analyses, and developments across various political topics. The subreddit is moderated to maintain civility, relevance, and adherence to community guidelines, fostering constructive dialogue and engagement on political issues. We attempt to analyze the comments posted on the submissions for r/politics using our misinformation classification model. The result is presented in a tabular format, resembling a dashboard view for the moderator.  \n",
    "\n",
    "Based on general sentiment on the comments posted in r/politics, we had gathered the following submissions that were marked \"misleading\" by redditors/moderators. These submissions will serve as a litmus test for this implementation. \n",
    "\n",
    "_r/politics posts perceived as misleading based on user comment:_\n",
    "- https://www.reddit.com/r/politics/comments/1b4828m/biden_calls_for_immediate_ceasefire_in_gaza/\n",
    "- https://www.reddit.com/r/politics/comments/1ap2dwr/rfk_jr_apologizes_for_super_bowl_ad_thats_still/\n",
    "- https://www.reddit.com/r/politics/comments/19ajy65/six_top_secret_files_identified_in_donald_trumps/\n",
    "- https://www.reddit.com/r/politics/comments/1b1aojn/joe_biden_pledges_17_billion_to_end_hunger_across/\n",
    "- https://www.reddit.com/r/politics/comments/1bmzylv/eric_trump_says_454m_fine_imposed_on_his_father/\n",
    "\n",
    "\n",
    "\n",
    "_r/politics posts perceived as not-misleading based on user comment:_\n",
    "- https://www.reddit.com/r/politics/comments/1bngesz/trump_bond_reduced_to_175_million_as_he_appeals/\n",
    "- https://www.reddit.com/r/politics/comments/1bnhop5/its_a_date_trumps_first_felony_trial_will_be/\n",
    "- https://www.reddit.com/r/politics/comments/1bnid3p/israel_cancels_washington_visit_after_us_allows/\n",
    "- https://www.reddit.com/r/politics/comments/1bo59n6/biden_gets_some_good_news_in_poll_as_he_gains/\n",
    "\n",
    "The code will also scrape additional number of submissions to make up the number for the final dashboard. "
   ]
  },
  {
   "cell_type": "markdown",
   "metadata": {},
   "source": [
    "---\n",
    "### Import libraries"
   ]
  },
  {
   "cell_type": "code",
   "execution_count": 606,
   "metadata": {},
   "outputs": [],
   "source": [
    "import praw\n",
    "from datetime import datetime\n",
    "import pandas as pd\n",
    "import time\n",
    "import numpy as np\n",
    "import re\n",
    "import string\n",
    "import requests \n",
    "\n",
    "from spellchecker import SpellChecker\n",
    "from nltk.stem import WordNetLemmatizer\n",
    "from nltk.corpus import wordnet\n",
    "from nltk import word_tokenize\n",
    "from nltk import pos_tag\n",
    "from nltk.corpus import stopwords\n",
    "\n",
    "from sklearn.feature_extraction.text import CountVectorizer\n",
    "from sklearn.linear_model import LogisticRegression\n",
    "\n",
    "import pickle\n",
    "\n"
   ]
  },
  {
   "cell_type": "markdown",
   "metadata": {},
   "source": [
    "---\n",
    "### Data Scraping"
   ]
  },
  {
   "cell_type": "markdown",
   "metadata": {},
   "source": [
    "For the list of identified reddit submission, the data can be scraped from the JSON data of the submission from reddit.com website. JSON data of a submission can be retrieved by appending `.json` to the post ID on the URL. \n",
    "\n",
    "For example: \n",
    "- URL of a Reddit submission https://www.reddit.com/r/politics/comments/1b4828m/biden_calls_for_immediate_ceasefire_in_gaza/\n",
    "- JSON data of the Reddit submission https://www.reddit.com/r/politics/comments/1b4828m.json\n",
    "\n",
    "For this implementation (and streamlit app), scraping as JSON is proven to be faster and more effective, allowing the app to be more responsive. \n",
    "\n",
    "Code was developed to execute the following:\n",
    "1. to perform  HTTP GET action to retrieve the JSON data for the identified submission\n",
    "2. from JSON data, extract out the title, number of comments, and also the list of comments (including all child comments in the comment forest)\n",
    "3. All the extracted comments are placed onto dataframe\n"
   ]
  },
  {
   "cell_type": "code",
   "execution_count": 607,
   "metadata": {},
   "outputs": [],
   "source": [
    "## Variable configuration that drive the outcome\n",
    "\n",
    "subreddit = 'politics'   # subreddit name to be scraped and analysed \n",
    "num_submission = 100      # number of submission in the subreddit to be scraped"
   ]
  },
  {
   "cell_type": "markdown",
   "metadata": {},
   "source": [
    "Code to extract the list of \"Hot\" submission on the intended subreddit "
   ]
  },
  {
   "cell_type": "code",
   "execution_count": 608,
   "metadata": {},
   "outputs": [
    {
     "name": "stdout",
     "output_type": "stream",
     "text": [
      "List of submission IDs for hot submissions in r/politics:\n",
      "['1bnf9ci', '1bp5udi', '1bp9lcx', '1bpef1i', '1bphl49', '1bp218u', '1bphx66', '1bpca0a', '1bpkqtj', '1bpg3ni', '1bp65g6', '1bp2dfu', '1bp70p6', '1bp24vc', '1bp0ioq', '1bp5wft', '1bpbsmi', '1bpjsrl', '1bp9nbl', '1bpbq8s', '1bp2lx8', '1bpizvm', '1bpc5pl', '1bp3ok9', '1bpd68u', '1bpj55q', '1bphf3z', '1bozu7h', '1boxmwp', '1bp4qm4', '1bpl8w1', '1bpasr0', '1bp0anx', '1bp1t3g', '1bp2cop', '1bphlfy', '1bp1jfv', '1bozt1c', '1bpbokz', '1bpbj49', '1boqqmu', '1bpcwvv', '1bor5hj', '1bp7402', '1bpmd50', '1bph7pc', '1bpatrk', '1bpfbwr', '1bp34mr', '1bp3czk', '1bp53m4', '1bp0osc', '1bp6xwx', '1bpa1a1', '1bp4cwr', '1bp2ly6', '1bpg525', '1bpabxc', '1bp6zwe', '1bpdegg', '1bplgv4', '1bp8hj5', '1bp4ioh', '1bpdvb7', '1bpn83q', '1bp5zfm', '1borjiv', '1boi4wv', '1bozzpf', '1bp3g99', '1bplyue', '1bph5dz', '1bpkjlu', '1bp1sek', '1bpi6hi', '1bpoclj', '1bpa3gk', '1bp2myu', '1bpc52r', '1bp67gf', '1bpias5', '1boq2fu', '1bojbha', '1boue6m', '1bol03s', '1bp8sxi', '1bp28hz', '1bp6i4r', '1bp6o72', '1bpamna', '1bodgtq', '1bp45j3', '1bp4lz5', '1boanee', '1bp3r9f', '1bpaikf', '1bokwjr', '1bofod1', '1borf5t', '1bp6nsx', '1bohm5p']\n"
     ]
    }
   ],
   "source": [
    "url = f\"https://www.reddit.com/r/{subreddit}/hot.json?limit={num_submission}\"\n",
    "\n",
    "# Send a GET request to retrieve the JSON data\n",
    "response = requests.get(url, headers={'User-agent': 'Mozilla/5.0'})\n",
    "\n",
    "# Check if the request was successful\n",
    "if response.status_code == 200:\n",
    "    # Parse the JSON data\n",
    "    json_data = response.json()\n",
    "    \n",
    "    # Extract submission IDs from the JSON data\n",
    "    submission_ids = [post['data']['id'] for post in json_data['data']['children']]\n",
    "    \n",
    "    # Print the list of submission IDs\n",
    "    print(\"List of submission IDs for hot submissions in r/politics:\")\n",
    "    print(submission_ids)\n",
    "else:\n",
    "    print(\"Failed to retrieve data. Status code:\", response.status_code)\n",
    "    "
   ]
  },
  {
   "cell_type": "markdown",
   "metadata": {},
   "source": [
    "Consolidating the list of URLs based on Submission ID"
   ]
  },
  {
   "cell_type": "code",
   "execution_count": 609,
   "metadata": {},
   "outputs": [],
   "source": [
    "submission_urls = [ f\"https://www.reddit.com/r/politics/comments/{id}.json\" for id in submission_ids ]\n",
    "\n",
    "## Append the URLs for the selected submissions as above mentioned  \n",
    "submission_urls.append('https://www.reddit.com/r/politics/comments/1bmzylv.json')\n",
    "submission_urls.append('https://www.reddit.com/r/politics/comments/1b4828m.json')\n",
    "submission_urls.append('https://www.reddit.com/r/politics/comments/1ap2dwr.json')\n",
    "submission_urls.append('https://www.reddit.com/r/politics/comments/19ajy65.json')\n",
    "submission_urls.append('https://www.reddit.com/r/politics/comments/1b1aojn.json')\n",
    "submission_urls.append('https://www.reddit.com/r/politics/comments/1bngesz.json')\n",
    "submission_urls.append('https://www.reddit.com/r/politics/comments/1bnhop5.json')\n",
    "submission_urls.append('https://www.reddit.com/r/politics/comments/1bnid3p.json')\n",
    "submission_urls.append('https://www.reddit.com/r/politics/comments/1bo59n6.json')\n"
   ]
  },
  {
   "cell_type": "markdown",
   "metadata": {},
   "source": [
    "Function `extract_comments` is a recursive function to extract all the child comments in a comment forest"
   ]
  },
  {
   "cell_type": "code",
   "execution_count": 610,
   "metadata": {},
   "outputs": [],
   "source": [
    "def extract_comments(comment, submission_title, comments_list):\n",
    "    \"\"\"Recursive function to extract comments and their child comments.\"\"\"\n",
    "    if 'body' in comment['data']:  # Check if the comment has a body\n",
    "        comments_list.append({\n",
    "            'comment id': comment['data']['id'],\n",
    "            'title': submission_title,\n",
    "            'body': comment['data']['body']\n",
    "        })\n",
    "    \n",
    "    # Recursively extract child comments\n",
    "    if 'replies' in comment['data'] and comment['data']['replies'] != '':\n",
    "        replies_data = comment['data']['replies']['data']['children']\n",
    "        for reply in replies_data:\n",
    "            extract_comments(reply, submission_title, comments_list)"
   ]
  },
  {
   "cell_type": "markdown",
   "metadata": {},
   "source": [
    "Code to extract the comments for each submission. All extracted comments are eventually stored into dataframe `comments_df`"
   ]
  },
  {
   "cell_type": "code",
   "execution_count": 611,
   "metadata": {},
   "outputs": [
    {
     "name": "stdout",
     "output_type": "stream",
     "text": [
      "Submission Title: r/Politics' 2024 US Elections Live Thread, Part 6\n",
      "Number of Comments: 99\n",
      "Submission Title: Donald Trump Attacks Judge's Daughter Less Than 24 Hours After Gag Order\n",
      "Number of Comments: 2915\n",
      "Submission Title: Trump Launches Fresh Attack on Judge’s Daughter After Gag Order\n",
      "Number of Comments: 857\n",
      "Submission Title: Trump hush money judge appearing more irritated\n",
      "Number of Comments: 268\n",
      "Submission Title: X Account Trump Cited in Attacks on Judge’s Daughter Isn’t Even Hers: Court\n",
      "Number of Comments: 95\n",
      "Submission Title: Donald Trump Selling Bibles Sparks Fury From Christians—'Blasphemous Grift'\n",
      "Number of Comments: 2263\n",
      "Submission Title: Fox News host slammed for linking Baltimore Key bridge disaster to immigration: ‘Reprehensible stupidity’\n",
      "Number of Comments: 105\n",
      "Submission Title: Hate influencer Chaya Raichik thinks Pete Buttigieg can’t do his job because he loves his husband. He apparently can't lead the federal response to the Baltimore bridge collapse because he and his husband are happy together.\n",
      "Number of Comments: 294\n",
      "Submission Title: Baltimore Mayor Turns the Tables On Racist Bridge Collapse Conspiracy Theorists\n",
      "Number of Comments: 86\n",
      "Submission Title: Jeffrey Clark Screws Over Donald Trump Big-Time in 2020 Election Case\n",
      "Number of Comments: 77\n",
      "Submission Title: “This is insane”: RNC reportedly makes Trump’s false election claims a “litmus test” for new hires\n",
      "Number of Comments: 356\n",
      "Submission Title: Trump says 'Joe Buden disinformates and misinformates' in social post\n",
      "Number of Comments: 1175\n",
      "Submission Title: Republicans slammed for blaming bridge collapse on Biden’s infrastructure bill\n",
      "Number of Comments: 256\n",
      "Submission Title: The Biden Campaign Is Quietly Preparing a Trump Ambush\n",
      "Number of Comments: 755\n",
      "Submission Title: Lands, a Democrat who ran on reproductive rights, flips seat in Alabama House\n",
      "Number of Comments: 245\n",
      "Submission Title: Obama jumps in to help Biden defeat Trump again\n",
      "Number of Comments: 232\n",
      "Submission Title: Supreme Court's taking an influx of cases from one circuit\n",
      "Number of Comments: 59\n",
      "Submission Title: House Democrat Calls GOP Budget a 'Blueprint for a Dystopian Hellscape'\n",
      "Number of Comments: 12\n",
      "Submission Title: Trump Responds to Gag Order by Attacking Judge’s Daughter Again\n",
      "Number of Comments: 160\n",
      "Submission Title: Biden administration announces $1.5 billion loan for first reopening of a shuttered nuclear plant\n",
      "Number of Comments: 190\n",
      "Submission Title: The Utter Ridiculousness of ‘Trump Bibles’ - The criminally indicted, twice-divorced, sexual-assaulting ex-president doesn’t have many people left to con—so he’s going back to evangelicals as his marks.\n",
      "Number of Comments: 248\n",
      "Submission Title: Democrats feel more fear and anger about Trump than Republicans do for Biden, AP-NORC poll says\n",
      "Number of Comments: 97\n",
      "Submission Title: Prosecute a cop? You'll face removal from office: Reform-minded district attorneys like Minnesota’s Mary Moriarty are facing backlash for prosecuting police shootings and misconduct.\n",
      "Number of Comments: 45\n",
      "Submission Title: Greene says she won’t take blame if Jeffries becomes speaker\n",
      "Number of Comments: 485\n",
      "Submission Title: Trump’s proposed tariffs could cost US households $1,500 per year: Report\n",
      "Number of Comments: 83\n",
      "Submission Title: Matt Schlapp’s Accuser Was Paid to Drop Sexual Assault Suit\n",
      "Number of Comments: 19\n",
      "Submission Title: A day after bridge collapse, Republicans are blaming Dems, floating unfounded and sometimes racist theories\n",
      "Number of Comments: 76\n",
      "Submission Title: Republicans would rather boycott Tyson Foods than acknowledge how essential immigrant workers are\n",
      "Number of Comments: 458\n",
      "Submission Title: Mary Trump Mocks Donald Trump Over Bible Push: 'Never Prayed in His Life'\n",
      "Number of Comments: 333\n",
      "Submission Title: Donald Trump is \"electoral poison\"—former GOP strategist\n",
      "Number of Comments: 108\n",
      "Submission Title: 'They should be afraid': Baltimore leader called 'DEI mayor' stands up to right-wing, racist attacks\n",
      "Number of Comments: 18\n",
      "Submission Title: Neil Gorsuch Confidently Declares That He Did The Research (He Did Not Do The Research)\n",
      "Number of Comments: 13\n",
      "Submission Title: Trump’s tariff plan would cost families $1,500 a year, Democratic group finds\n",
      "Number of Comments: 136\n",
      "Submission Title: Donald Trump's Bible Knowledge Mocked in Viral Video\n",
      "Number of Comments: 147\n",
      "Submission Title: Trump evokes more anger and fear from Democrats than Biden does from Republicans, AP-NORC poll shows\n",
      "Number of Comments: 225\n",
      "Submission Title: Conservative bigwig Matt Schlapp agreed to hefty settlement to end sexual assault lawsuit\n",
      "Number of Comments: 17\n",
      "Submission Title: Democrats look for new ways to tax the super-rich\n",
      "Number of Comments: 154\n",
      "Submission Title: Republicans have an internal polling problem\n",
      "Number of Comments: 370\n",
      "Submission Title: Biden uses Covid-19 against Trump after long avoiding the pandemic\n",
      "Number of Comments: 61\n",
      "Submission Title: The Alabama Democrat who flipped a seat in Trump country\n",
      "Number of Comments: 16\n",
      "Submission Title: Trump threatened Pence in phone call before Jan 6 riot, new transcript shows\n",
      "Number of Comments: 813\n",
      "Submission Title: A solution to the retirement crisis? Americans should work for more years, BlackRock CEO says\n",
      "Number of Comments: 234\n",
      "Submission Title: Alabama Democrat Marilyn Lands, running on IVF ruling, flips Republican House seat\n",
      "Number of Comments: 419\n",
      "Submission Title: Kari Lake admits she defamed Republican election official\n",
      "Number of Comments: 27\n",
      "Submission Title: Trump targets New York hush money trial judge's daughter day after gag order  \n",
      "Number of Comments: 33\n",
      "Submission Title: How a second Trump presidency could impact the LGBTQ+ community\n",
      "Number of Comments: 53\n",
      "Submission Title: Alaska Governor Dunleavy accepted more than $55,000 in hunting-related gifts last year\n",
      "Number of Comments: 13\n",
      "Submission Title: An Arizona Lawmaker announced she was getting an abortion. Here's what happened next.\n",
      "Number of Comments: 28\n",
      "Submission Title: Democrat wins election in conservative Alabama after focus on abortion and IVF\n",
      "Number of Comments: 35\n",
      "Submission Title: Trump slow to invest in states that could decide election as some in GOP fear 'skeleton' campaign\n",
      "Number of Comments: 195\n",
      "Submission Title: How bashing California became a requirement for conservative politicians\n",
      "Number of Comments: 177\n",
      "Submission Title: How Trump Moved Money to Pay $100 Million in Legal Bills\n",
      "Number of Comments: 125\n",
      "Submission Title: Florida Gov. Ron DeSantis tops the list of the year's worst failures of government transparency\n",
      "Number of Comments: 18\n",
      "Submission Title: Trump ramps up attacks on judge in hush money case following gag order\n",
      "Number of Comments: 55\n",
      "Submission Title: Supreme Court appears likely to allow abortion drug to remain available\n",
      "Number of Comments: 54\n",
      "Submission Title: The DOJ is investigating dozens of threats against election workers: An Ohio man convicted of threatening an election official was sentenced to 30 months in prison Monday, while dozens of others remain under investigation.\n",
      "Number of Comments: 26\n",
      "Submission Title: Interior Department rule aims to crack down on methane leaks from oil, gas drilling on public lands\n",
      "Number of Comments: 7\n",
      "Submission Title: Democrats ramp up attacks on RFK Jr.: ‘He should be ashamed of himself’\n",
      "Number of Comments: 38\n",
      "Submission Title: How bad can Judge Aileen Cannon get? I’m answering your questions.\n",
      "Number of Comments: 48\n",
      "Submission Title: Some Leaders of the Texas GOP Have Found a New Enemy: H‑E‑B Chairman Charles Butt\n",
      "Number of Comments: 60\n",
      "Submission Title: AI Is Making Financial Fraud Easier and More Sophisticated, US Treasury Warns\n",
      "Number of Comments: 7\n",
      "Submission Title: Comer Tries a Deep-State Excuse for His Dead Biden Impeachment Crusade\n",
      "Number of Comments: 42\n",
      "Submission Title: Klobuchar says Alabama election bolsters Biden’s Southern push\n",
      "Number of Comments: 25\n",
      "Submission Title: Kari Lake won’t contest claims she defamed Arizona election official\n",
      "Number of Comments: 16\n",
      "Submission Title: Pa. billionaire Jeffrey Yass’ firm has a large holding in company that merged with Trump’s Truth Social\n",
      "Number of Comments: 11\n",
      "Submission Title: Donald Trump Is Still Touting His Mythical Alternative For Obamacare\n",
      "Number of Comments: 88\n",
      "Submission Title: Cheney trolls Trump over Bible sale, suggests he read verse on adultery\n",
      "Number of Comments: 206\n",
      "Submission Title: Trump Wins Himself a Gag Order After Unhinged Attack on Judge’s Family\n",
      "Number of Comments: 1963\n",
      "Submission Title: Kari Lake declines to defend her statements in defamation suit filed by Arizona election official\n",
      "Number of Comments: 44\n",
      "Submission Title: Biden leans on his Democratic predecessors as Trump remains isolated from other Republican leaders\n",
      "Number of Comments: 32\n",
      "Submission Title: Kari Lake declines to defend her statements in a defamation case\n",
      "Number of Comments: 15\n",
      "Submission Title: Why Has Obamacare Worked?\n",
      "Number of Comments: 47\n",
      "Submission Title: White House ramps up defense of embattled Muslim American judicial nominee\n",
      "Number of Comments: 3\n",
      "Submission Title: Mnuchin tried to force a sale of TikTok. Now he’s a possible bidder.\n",
      "Number of Comments: 36\n",
      "Submission Title: Supreme Court gets Jan. 6 defendant out of jail\n",
      "Number of Comments: 38\n",
      "Submission Title: [The Washington Post] Judge recommends conservative lawyer John Eastman be disbarred in California\n",
      "\n",
      "Number of Comments: 3\n",
      "Submission Title: How Trump's trial delay strategy may backfire\n",
      "Number of Comments: 32\n",
      "Submission Title: Team Trump Plots to Send DOJ After New York AG for … Election Interference\n",
      "Number of Comments: 82\n",
      "Submission Title: ‘Why do they bend their knee?’ 6 Never-Trumpers look back at what went wrong\n",
      "Number of Comments: 22\n",
      "Submission Title: Most Americans oppose Israel’s war in Gaza, poll finds\n",
      "Number of Comments: 85\n",
      "Submission Title: Pribula resigns as Luzerne County Republican party chair\n",
      "Number of Comments: 10\n",
      "Submission Title: Abortion proves winning strategy for Alabama Democrat: Marilyn Lands won a state House special election in a rare battleground race\n",
      "Number of Comments: 92\n",
      "Submission Title: Rep. Jamie Raskin Calls For Hearing On 'Influence Peddling' By Jared Kushner\n",
      "Number of Comments: 118\n",
      "Submission Title: Democrat who ran heavily on abortion rights, IVF wins Alabama special election\n",
      "Number of Comments: 23\n",
      "Submission Title: NBC News ousts Ronna McDaniel after network’s anchors launch unprecedented on-air rebellion\n",
      "Number of Comments: 369\n",
      "Submission Title: Top Republican hints at an off-ramp from impeaching Biden\n",
      "Number of Comments: 46\n",
      "Submission Title: Lawyers for Trump after 2020 election face professional reckonings \n",
      "Number of Comments: 15\n",
      "Submission Title: Consumer advocates urge passage of bill to regulate hospital facility fees - The bill would prohibit charging such fees for telehealth appointments and require signs be placed to inform patients when the fees may be charged.\n",
      "Number of Comments: 4\n",
      "Submission Title: Supreme Court Scoffs at Flimsy Abortion Pill Argument\n",
      "Number of Comments: 12\n",
      "Submission Title: A Complete Guide to the Manhattan Trump Election Interference Prosecution\n",
      "Number of Comments: 6\n",
      "Submission Title: Trump Goes After Judge's Daughter in Hush Money Trial Rant\n",
      "Number of Comments: 1149\n",
      "Submission Title: Texas Attorney General Ken Paxton cuts deal to have fraud charges dropped, trial canceled\n",
      "Number of Comments: 23\n",
      "Submission Title: Men and Women Live on Two Totally Separate Political Planets Right Now. That’s Great News for One Party.\n",
      "Number of Comments: 72\n",
      "Submission Title: James Comer Finally Admits Defeat in His Biden Impeachment Crusade: The House Oversight chair admitted in writing that impeachment isn’t going to happen.\n",
      "Number of Comments: 1011\n",
      "Submission Title: Disney and Florida settle lawsuits over DeSantis special district fight\n",
      "Number of Comments: 48\n",
      "Submission Title: Bernie Sanders: Too Few Democrats Call for Conditioning Israel Aid Because of AIPAC, Biden\n",
      "Number of Comments: 14\n",
      "Submission Title: Donald Trump's lack of rallies draws scrutiny\n",
      "Number of Comments: 394\n",
      "Submission Title: Judge Imposes Gag Order on Trump in Manhattan Criminal Trial\n",
      "Number of Comments: 451\n",
      "Submission Title: Democrat wins Alabama special election in early test for IVF as a campaign issue | Marilyn Lands, who defeated Republican Teddy Powell, highlighted IVF and abortion rights in her campaign for a state House seat that was previously held by the GOP.\n",
      "Number of Comments: 39\n",
      "Submission Title: Democrats fear Trump more than Biden scares GOP: Poll\n",
      "Number of Comments: 45\n",
      "Submission Title: Biden reacts to pro-Palestinian protesters: 'They have a point'\n",
      "Number of Comments: 866\n",
      "Submission Title: Eric Trump says $454m fine imposed on his father ‘doesn’t exist in this country’\n",
      "Number of Comments: 555\n",
      "Submission Title: Biden calls for 'immediate cease-fire' in Gaza\n",
      "Number of Comments: 3502\n",
      "Submission Title: RFK Jr. Apologizes for Super Bowl Ad … That's Still Pinned Atop His Twitter Page\n",
      "Number of Comments: 697\n",
      "Submission Title: Six top secret files identified in Donald Trump's Mar-a-Lago case\n",
      "Number of Comments: 241\n",
      "Submission Title: Joe Biden Pledges $1.7 Billion To End Hunger Across U.S.\n",
      "Number of Comments: 2185\n",
      "Submission Title: Trump Bond Reduced to $175 Million as He Appeals NY Fine\n",
      "Number of Comments: 8156\n",
      "Submission Title: It's a date: Trump's first felony trial will be April 15\n",
      "Number of Comments: 697\n",
      "Submission Title: Israel cancels Washington visit after US allows UN Gaza ceasefire resolution to pass\n",
      "Number of Comments: 383\n",
      "Submission Title: Biden Gets Some Good News in Poll as He Gains Ground on Trump\n",
      "Number of Comments: 465\n",
      "All comments from multiple submissions (including comment forests) download into dataframe successfully.\n"
     ]
    }
   ],
   "source": [
    "\n",
    "# Initialize an empty list to store comments\n",
    "all_comments_list = []\n",
    "\n",
    "# Loop through each submission URL\n",
    "for url in submission_urls:\n",
    "    # Send a GET request to retrieve the JSON data\n",
    "    response = requests.get(url, headers={'User-agent': 'Mozilla/5.0'})\n",
    "    \n",
    "    # Check if the request was successful\n",
    "    if response.status_code == 200:\n",
    "        # Parse the JSON data\n",
    "        json_data = response.json()\n",
    "        \n",
    "        # Extract submission information\n",
    "        submission_data = json_data[0]['data']['children'][0]['data']\n",
    "        submission_title = submission_data['title']\n",
    "        num_comments = submission_data['num_comments']\n",
    "        \n",
    "        print(\"Submission Title:\", submission_title)\n",
    "        print(\"Number of Comments:\", num_comments)\n",
    "        \n",
    "        # Extract comments and child comments recursively\n",
    "        comments_data = json_data[1]['data']['children']\n",
    "        for comment in comments_data:\n",
    "            extract_comments(comment, submission_title, all_comments_list)\n",
    "        \n",
    "    else:\n",
    "        print(\"Failed to retrieve data from URL:\", url)\n",
    "\n",
    "# Create DataFrame from all comments\n",
    "comments_df = pd.DataFrame(all_comments_list)\n",
    "\n",
    "print(f\"All comments from multiple submissions (including comment forests) download into dataframe successfully.\")"
   ]
  },
  {
   "cell_type": "markdown",
   "metadata": {},
   "source": [
    "---\n",
    "## Data Cleaning"
   ]
  },
  {
   "cell_type": "markdown",
   "metadata": {},
   "source": [
    "The data cleaning actions performed in 02_DataCleaning and 03_EDA will be carried out in this section, in the proper sequence, namely clean text, lemmatize text, and clean the lemmatized text.  "
   ]
  },
  {
   "cell_type": "code",
   "execution_count": 612,
   "metadata": {},
   "outputs": [
    {
     "data": {
      "text/html": [
       "<div>\n",
       "<style scoped>\n",
       "    .dataframe tbody tr th:only-of-type {\n",
       "        vertical-align: middle;\n",
       "    }\n",
       "\n",
       "    .dataframe tbody tr th {\n",
       "        vertical-align: top;\n",
       "    }\n",
       "\n",
       "    .dataframe thead th {\n",
       "        text-align: right;\n",
       "    }\n",
       "</style>\n",
       "<table border=\"1\" class=\"dataframe\">\n",
       "  <thead>\n",
       "    <tr style=\"text-align: right;\">\n",
       "      <th></th>\n",
       "      <th>comment id</th>\n",
       "      <th>title</th>\n",
       "      <th>body</th>\n",
       "    </tr>\n",
       "  </thead>\n",
       "  <tbody>\n",
       "    <tr>\n",
       "      <th>0</th>\n",
       "      <td>kww8gj4</td>\n",
       "      <td>r/Politics' 2024 US Elections Live Thread, Part 6</td>\n",
       "      <td>The politics stuff aside, the way Joe Lieberma...</td>\n",
       "    </tr>\n",
       "    <tr>\n",
       "      <th>1</th>\n",
       "      <td>kwthuxt</td>\n",
       "      <td>r/Politics' 2024 US Elections Live Thread, Part 6</td>\n",
       "      <td>So... what's Bernie Sanders's move? Is he runn...</td>\n",
       "    </tr>\n",
       "    <tr>\n",
       "      <th>2</th>\n",
       "      <td>kwvs0rz</td>\n",
       "      <td>r/Politics' 2024 US Elections Live Thread, Part 6</td>\n",
       "      <td>It could be why there hasn't been a permanent ...</td>\n",
       "    </tr>\n",
       "    <tr>\n",
       "      <th>3</th>\n",
       "      <td>kwudm7d</td>\n",
       "      <td>r/Politics' 2024 US Elections Live Thread, Part 6</td>\n",
       "      <td>I haven’t looked into it but he is 82 and as f...</td>\n",
       "    </tr>\n",
       "    <tr>\n",
       "      <th>4</th>\n",
       "      <td>kwsenqu</td>\n",
       "      <td>r/Politics' 2024 US Elections Live Thread, Part 6</td>\n",
       "      <td>I'm not an American. But electing the most pow...</td>\n",
       "    </tr>\n",
       "  </tbody>\n",
       "</table>\n",
       "</div>"
      ],
      "text/plain": [
       "  comment id                                              title  \\\n",
       "0    kww8gj4  r/Politics' 2024 US Elections Live Thread, Part 6   \n",
       "1    kwthuxt  r/Politics' 2024 US Elections Live Thread, Part 6   \n",
       "2    kwvs0rz  r/Politics' 2024 US Elections Live Thread, Part 6   \n",
       "3    kwudm7d  r/Politics' 2024 US Elections Live Thread, Part 6   \n",
       "4    kwsenqu  r/Politics' 2024 US Elections Live Thread, Part 6   \n",
       "\n",
       "                                                body  \n",
       "0  The politics stuff aside, the way Joe Lieberma...  \n",
       "1  So... what's Bernie Sanders's move? Is he runn...  \n",
       "2  It could be why there hasn't been a permanent ...  \n",
       "3  I haven’t looked into it but he is 82 and as f...  \n",
       "4  I'm not an American. But electing the most pow...  "
      ]
     },
     "execution_count": 612,
     "metadata": {},
     "output_type": "execute_result"
    }
   ],
   "source": [
    "# verify the comments are in place in the comments_df\n",
    "comments_df.head(5)"
   ]
  },
  {
   "cell_type": "code",
   "execution_count": 613,
   "metadata": {},
   "outputs": [
    {
     "data": {
      "text/plain": [
       "0        The politics stuff aside, the way Joe Lieberma...\n",
       "1        So... what's Bernie Sanders's move? Is he runn...\n",
       "2        It could be why there hasn't been a permanent ...\n",
       "3        I haven’t looked into it but he is 82 and as f...\n",
       "4        I'm not an American. But electing the most pow...\n",
       "                               ...                        \n",
       "11041             Who the fuck cares about polls. Its 2024\n",
       "11042    This isn’t good news for Biden, it’s good news...\n",
       "11043    In the same way that we criticize polls when t...\n",
       "11044                                        Good for him.\n",
       "11045                                   \"Gains ground????\"\n",
       "Name: body, Length: 11046, dtype: object"
      ]
     },
     "execution_count": 613,
     "metadata": {},
     "output_type": "execute_result"
    }
   ],
   "source": [
    "# verify the comments are in place in the comments_df\n",
    "comments_df['body']"
   ]
  },
  {
   "cell_type": "markdown",
   "metadata": {},
   "source": [
    "Define the variables and functions that will be used for data cleaning, including lemmatization"
   ]
  },
  {
   "cell_type": "code",
   "execution_count": 614,
   "metadata": {},
   "outputs": [],
   "source": [
    "stop_words = set(stopwords.words('english'))\n",
    "special_char_list = list(string.punctuation)\n",
    "special_char_list+=[\"’\",\"'s\",\"’s\",\"...\",\"$\",\"@$$.\",\"like\", \"it\", \"would\", \"im\",\"“\", \"”\", \"u\"]\n"
   ]
  },
  {
   "cell_type": "markdown",
   "metadata": {},
   "source": [
    "Define functions that will be used for data cleaning (code was copied from 02_Data_Cleaning and 03_EDA) "
   ]
  },
  {
   "cell_type": "code",
   "execution_count": 615,
   "metadata": {},
   "outputs": [],
   "source": [
    "'''\n",
    "function to perform lemmatization on a text\n",
    "Using the WordNetLemmatizer by nltk\n",
    "'''\n",
    "def get_wordnet_pos(word):\n",
    "    \"\"\"Map POS tag to first character lemmatize() accepts\"\"\"\n",
    "    tag = pos_tag([word])[0][1][0].upper()\n",
    "    tag_dict = {\"J\": wordnet.ADJ,\n",
    "                \"N\": wordnet.NOUN,\n",
    "                \"V\": wordnet.VERB,\n",
    "                \"R\": wordnet.ADV}\n",
    "    return tag_dict.get(tag, wordnet.NOUN)\n",
    "\n",
    "\n",
    "def sentence_lemmatizer(text):\n",
    "    if text.strip() == '':\n",
    "        return np.NaN\n",
    "\n",
    "    lemmatizer = WordNetLemmatizer()\n",
    "    char_list = word_tokenize(text.lower())\n",
    "\n",
    "    # Lemmatize list of words and join\n",
    "    return ' '.join([lemmatizer.lemmatize(w.lower(), get_wordnet_pos(w.lower())) for w in char_list])\n"
   ]
  },
  {
   "cell_type": "code",
   "execution_count": 616,
   "metadata": {},
   "outputs": [],
   "source": [
    "'''\n",
    "function to perform the various text_cleaning actions on the extrated comment from Reddit submission. \n",
    "'''\n",
    "def text_cleaning(text):\n",
    "\n",
    "    url_regex = re.compile(\n",
    "    r'((http|https)://'     # Start with http:// or https://\n",
    "    r'([a-zA-Z0-9.-]+)'     # Match the domain name (alphanumeric characters, dots, and dashes)\n",
    "    r'(\\.[a-zA-Z]{2,})'     # Match the top-level domain (e.g., .com, .net) with at least 2 characters\n",
    "    r'(:\\d+)?'              # Match an optional port number\n",
    "    r'(/\\S*)?'              # Match an optional path (any non-whitespace characters)\n",
    "    r'(\\?[^\"\\s]*)?)',        # Match an optional query string (attribute-value pairs)\n",
    "    re.IGNORECASE        # Ignore case sensitivity\n",
    "    )\n",
    "\n",
    "    # remove URL\n",
    "    text = url_regex.sub(\"\", text)\n",
    "\n",
    "    # Mark the comment with [deleted] or [removed] with pseudo marker \"pseudodeleted\" and \"pseudoremoved\"\n",
    "    # After lemmatization, [deleted] become [ delete ], [removed] become [ remove ]\n",
    "    # After stemming, [deleted] become [ delet ], [removed] become [ remov ]\n",
    "    text = text.replace(\"[deleted]\",\"pseudodeleted\").replace(\"[removed]\",\"pseudoremoved\").replace(\"[ delete ]\",\"pseudodeleted\").replace(\"[ remove ]\",\"pseudoremoved\").replace(\"[ delet ]\",\"pseudodeleted\").replace(\"[ remov ]\",\"pseudoremoved\")\n",
    "\n",
    "    # remove newline \n",
    "    text = text.replace(\"\\n\", \" \").replace(\"\\r\", \" \").replace(\"\\r\\n\",\" \").replace(\"_x000D_\", \" \")\n",
    "\n",
    "    # remove  \"'s\"\n",
    "    text = re.sub(r\"(\\'s)\",\"\", text)\n",
    "    \n",
    "    # remove stopword \n",
    "    text = ' '.join([word for word in text.split() if word.lower() not in stop_words])\n",
    "\n",
    "   # remove punctuation and special character\n",
    "    text = ''.join([char for char in text if char not in special_char_list])\n",
    "\n",
    "    # return the cleaned text\n",
    "    return text.strip()"
   ]
  },
  {
   "cell_type": "code",
   "execution_count": 617,
   "metadata": {},
   "outputs": [],
   "source": [
    "'''\n",
    "function to perform the various text_cleaning actions on the comment lemmatized text. \n",
    "'''\n",
    "def text_cleaning_post_lemmatized(text):\n",
    "\n",
    "    # pattern of a standard footer in a submission template\n",
    "    pattern = r'pm\\sexclude\\sme\\sexclude\\sfrom\\ssubreddit\\sfaq\\sinformation\\ssource\\s.*downvote\\sto\\sremove\\sv028'\n",
    "    text = re.sub(pattern, '', text)\n",
    "\n",
    "    # pattern2 of a standard footer in a submission template\n",
    "    pattern2 = r'nonmobile\\slink\\shelperbot\\sv11\\srhelperbot\\si\\sbe\\sa\\sbot\\splease\\smessage\\suswim1929\\swith\\sany\\sfeedback\\sandor\\shate\\scounter\\s\\d{6}'\n",
    "    text = re.sub(pattern, '', text)\n",
    "\n",
    "    # pattern to find any words that are repeating more than 2 times, replace with only 1 occurence of the word\n",
    "    text = re.sub(r'\\b(\\w+)(?: \\1\\b)+', r'\\1', text.lower())\n",
    "\n",
    "    text = re.sub(r'gon\\sna', \"gonna\", text.lower())\n",
    "\n",
    "    # return the cleaned text\n",
    "    return text.strip()"
   ]
  },
  {
   "cell_type": "markdown",
   "metadata": {},
   "source": [
    "> All functions are in place. Ready to perform data cleaning\n"
   ]
  },
  {
   "cell_type": "markdown",
   "metadata": {},
   "source": [
    "`text_cleaning` function performs the various text cleaning action identified in the 01_DataCleaning steps,e.g. removal of HTTP URL, newline, [deleted], [removal], e`"
   ]
  },
  {
   "cell_type": "code",
   "execution_count": 618,
   "metadata": {},
   "outputs": [
    {
     "data": {
      "text/plain": [
       "0    politics stff aside way Joe Lieberman died sca...\n",
       "1    So Bernie Sanders move rnning Senate reelectio...\n",
       "2    cold permanent Labor Secretary yet Jlie S acti...\n",
       "3    havent looked 82 far seen still mch mentally p...\n",
       "4    Im American electing powerfll president world ...\n",
       "5           So thoghts RFK Jrs vp pick Nicole Shanahan\n",
       "6    people even stand beyond third choice vaccine ...\n",
       "7    Receiving money Rssia spreading propaganda hel...\n",
       "8    cold still spoiler effect certainly gaining vo...\n",
       "9                             legitimately voting gy 🤔\n",
       "Name: comments_cleaned, dtype: object"
      ]
     },
     "execution_count": 618,
     "metadata": {},
     "output_type": "execute_result"
    }
   ],
   "source": [
    "comments_df['comments_cleaned'] = comments_df['body'].map(text_cleaning)\n",
    "comments_df['comments_cleaned'].head(10)"
   ]
  },
  {
   "cell_type": "markdown",
   "metadata": {},
   "source": [
    "The cleaned text will then go through lemmatization"
   ]
  },
  {
   "cell_type": "code",
   "execution_count": 619,
   "metadata": {},
   "outputs": [
    {
     "data": {
      "text/plain": [
       "0        politics stff aside way joe lieberman die scar...\n",
       "1        so bernie sander move rnning senate reelection...\n",
       "2        cold permanent labor secretary yet jlie s act ...\n",
       "3        havent look 82 far see still mch mentally phys...\n",
       "4        im american elect powerfll president world sti...\n",
       "                               ...                        \n",
       "11041                                   fck care poll 2024\n",
       "11042    isnt good news biden it good news america im p...\n",
       "11043    way criticize poll show trmp lead mst criticiz...\n",
       "11044                                             good him\n",
       "11045                                           gain grond\n",
       "Name: comments_cleaned_lemmatized, Length: 11046, dtype: object"
      ]
     },
     "execution_count": 619,
     "metadata": {},
     "output_type": "execute_result"
    }
   ],
   "source": [
    "comments_df['comments_cleaned_lemmatized'] = comments_df['comments_cleaned'].map(sentence_lemmatizer)\n",
    "comments_df['comments_cleaned_lemmatized']"
   ]
  },
  {
   "cell_type": "markdown",
   "metadata": {},
   "source": [
    "If a comment (e.g. comment with only HTTP URL, or the one marked [deleted]) has become blank line after cleaning, the rows with blank comment text need to be removed. "
   ]
  },
  {
   "cell_type": "code",
   "execution_count": 620,
   "metadata": {},
   "outputs": [],
   "source": [
    "comments_df = comments_df.dropna(subset=['comments_cleaned_lemmatized'])\n",
    "comments_df['comments_cleaned_lemmatized'].isnull().sum() \n",
    "comments_df.reset_index(drop=True, inplace=True)"
   ]
  },
  {
   "cell_type": "markdown",
   "metadata": {},
   "source": [
    "After lemmatization is done, the text will go through another round of text cleaning on the lemmatized text. This step was deemed necessary after EDA was conducted.  "
   ]
  },
  {
   "cell_type": "code",
   "execution_count": 621,
   "metadata": {},
   "outputs": [
    {
     "data": {
      "text/plain": [
       "0        politics stff aside way joe lieberman die scar...\n",
       "1        so bernie sander move rnning senate reelection...\n",
       "2        cold permanent labor secretary yet jlie s act ...\n",
       "3        havent look 82 far see still mch mentally phys...\n",
       "4        im american elect powerfll president world sti...\n",
       "                               ...                        \n",
       "11019                                   fck care poll 2024\n",
       "11020    isnt good news biden it good news america im p...\n",
       "11021    way criticize poll show trmp lead mst criticiz...\n",
       "11022                                             good him\n",
       "11023                                           gain grond\n",
       "Name: comments_cleaned_lemmatized_cleaned, Length: 11024, dtype: object"
      ]
     },
     "execution_count": 621,
     "metadata": {},
     "output_type": "execute_result"
    }
   ],
   "source": [
    "comments_df['comments_cleaned_lemmatized_cleaned'] = comments_df['comments_cleaned_lemmatized'].map(text_cleaning_post_lemmatized)\n",
    "comments_df['comments_cleaned_lemmatized_cleaned']"
   ]
  },
  {
   "cell_type": "markdown",
   "metadata": {},
   "source": [
    "All data cleaning has completed. Can proceed to prediction. "
   ]
  },
  {
   "cell_type": "markdown",
   "metadata": {},
   "source": [
    "---\n",
    "### Prediction for r/Politics subreddit\n"
   ]
  },
  {
   "cell_type": "markdown",
   "metadata": {},
   "source": [
    "Load the pickle file for the fitted CountVectorizer and trained LogisticRegression "
   ]
  },
  {
   "cell_type": "code",
   "execution_count": 622,
   "metadata": {},
   "outputs": [],
   "source": [
    "# trained model for misinformation predictor\n",
    "with open(r\"./model.pkl\", 'rb') as rf_model:\n",
    "    model = pickle.load(rf_model)\n",
    "\n",
    "# fitted transformer - CountVectorizer, to transform the data before calling to model (for prediction)\n",
    "with open(r\"./count_vectorizer.pkl\", 'rb') as rf_cv:\n",
    "    cvec = pickle.load(rf_cv)"
   ]
  },
  {
   "cell_type": "markdown",
   "metadata": {},
   "source": [
    "Apply CountVectorization to the cleaned comments"
   ]
  },
  {
   "cell_type": "code",
   "execution_count": 623,
   "metadata": {},
   "outputs": [],
   "source": [
    "X = cvec.transform(comments_df['comments_cleaned_lemmatized_cleaned'])\n"
   ]
  },
  {
   "cell_type": "markdown",
   "metadata": {},
   "source": [
    "Prediction using the trained model"
   ]
  },
  {
   "cell_type": "code",
   "execution_count": 624,
   "metadata": {},
   "outputs": [],
   "source": [
    "y_predict = model.predict(X)"
   ]
  },
  {
   "cell_type": "code",
   "execution_count": 625,
   "metadata": {},
   "outputs": [
    {
     "data": {
      "text/plain": [
       "array([0, 0, 0, ..., 1, 0, 1], dtype=int64)"
      ]
     },
     "execution_count": 625,
     "metadata": {},
     "output_type": "execute_result"
    }
   ],
   "source": [
    "y_predict"
   ]
  },
  {
   "cell_type": "markdown",
   "metadata": {},
   "source": [
    "Merge the predicted output to the `comments_df` dataframe"
   ]
  },
  {
   "cell_type": "code",
   "execution_count": 626,
   "metadata": {},
   "outputs": [],
   "source": [
    "# merge the predicted output (i.e predicted price) to the dataframe \n",
    "comments_df['label'] = pd.DataFrame(y_predict)"
   ]
  },
  {
   "cell_type": "markdown",
   "metadata": {},
   "source": [
    "Prediction Outcome"
   ]
  },
  {
   "cell_type": "code",
   "execution_count": 627,
   "metadata": {},
   "outputs": [
    {
     "data": {
      "text/html": [
       "<div>\n",
       "<style scoped>\n",
       "    .dataframe tbody tr th:only-of-type {\n",
       "        vertical-align: middle;\n",
       "    }\n",
       "\n",
       "    .dataframe tbody tr th {\n",
       "        vertical-align: top;\n",
       "    }\n",
       "\n",
       "    .dataframe thead th {\n",
       "        text-align: right;\n",
       "    }\n",
       "</style>\n",
       "<table border=\"1\" class=\"dataframe\">\n",
       "  <thead>\n",
       "    <tr style=\"text-align: right;\">\n",
       "      <th>label</th>\n",
       "      <th>0</th>\n",
       "      <th>1</th>\n",
       "      <th>Total</th>\n",
       "      <th>misinformation_percentage</th>\n",
       "      <th>misinformatoin_ALERT</th>\n",
       "    </tr>\n",
       "    <tr>\n",
       "      <th>title</th>\n",
       "      <th></th>\n",
       "      <th></th>\n",
       "      <th></th>\n",
       "      <th></th>\n",
       "      <th></th>\n",
       "    </tr>\n",
       "  </thead>\n",
       "  <tbody>\n",
       "    <tr>\n",
       "      <th>'They should be afraid': Baltimore leader called 'DEI mayor' stands up to right-wing, racist attacks</th>\n",
       "      <td>5.0</td>\n",
       "      <td>13.0</td>\n",
       "      <td>18.0</td>\n",
       "      <td>72.222222</td>\n",
       "      <td>ALERT</td>\n",
       "    </tr>\n",
       "    <tr>\n",
       "      <th>A Complete Guide to the Manhattan Trump Election Interference Prosecution</th>\n",
       "      <td>5.0</td>\n",
       "      <td>1.0</td>\n",
       "      <td>6.0</td>\n",
       "      <td>16.666667</td>\n",
       "      <td>N</td>\n",
       "    </tr>\n",
       "    <tr>\n",
       "      <th>A day after bridge collapse, Republicans are blaming Dems, floating unfounded and sometimes racist theories</th>\n",
       "      <td>37.0</td>\n",
       "      <td>38.0</td>\n",
       "      <td>75.0</td>\n",
       "      <td>50.666667</td>\n",
       "      <td>WARNING</td>\n",
       "    </tr>\n",
       "    <tr>\n",
       "      <th>A solution to the retirement crisis? Americans should work for more years, BlackRock CEO says</th>\n",
       "      <td>98.0</td>\n",
       "      <td>87.0</td>\n",
       "      <td>185.0</td>\n",
       "      <td>47.027027</td>\n",
       "      <td>WARNING</td>\n",
       "    </tr>\n",
       "    <tr>\n",
       "      <th>AI Is Making Financial Fraud Easier and More Sophisticated, US Treasury Warns</th>\n",
       "      <td>3.0</td>\n",
       "      <td>4.0</td>\n",
       "      <td>7.0</td>\n",
       "      <td>57.142857</td>\n",
       "      <td>ALERT</td>\n",
       "    </tr>\n",
       "    <tr>\n",
       "      <th>...</th>\n",
       "      <td>...</td>\n",
       "      <td>...</td>\n",
       "      <td>...</td>\n",
       "      <td>...</td>\n",
       "      <td>...</td>\n",
       "    </tr>\n",
       "    <tr>\n",
       "      <th>X Account Trump Cited in Attacks on Judge’s Daughter Isn’t Even Hers: Court</th>\n",
       "      <td>43.0</td>\n",
       "      <td>47.0</td>\n",
       "      <td>90.0</td>\n",
       "      <td>52.222222</td>\n",
       "      <td>WARNING</td>\n",
       "    </tr>\n",
       "    <tr>\n",
       "      <th>[The Washington Post] Judge recommends conservative lawyer John Eastman be disbarred in California\\n</th>\n",
       "      <td>2.0</td>\n",
       "      <td>1.0</td>\n",
       "      <td>3.0</td>\n",
       "      <td>33.333333</td>\n",
       "      <td>N</td>\n",
       "    </tr>\n",
       "    <tr>\n",
       "      <th>r/Politics' 2024 US Elections Live Thread, Part 6</th>\n",
       "      <td>42.0</td>\n",
       "      <td>43.0</td>\n",
       "      <td>85.0</td>\n",
       "      <td>50.588235</td>\n",
       "      <td>WARNING</td>\n",
       "    </tr>\n",
       "    <tr>\n",
       "      <th>‘Why do they bend their knee?’ 6 Never-Trumpers look back at what went wrong</th>\n",
       "      <td>8.0</td>\n",
       "      <td>13.0</td>\n",
       "      <td>21.0</td>\n",
       "      <td>61.904762</td>\n",
       "      <td>ALERT</td>\n",
       "    </tr>\n",
       "    <tr>\n",
       "      <th>“This is insane”: RNC reportedly makes Trump’s false election claims a “litmus test” for new hires</th>\n",
       "      <td>103.0</td>\n",
       "      <td>95.0</td>\n",
       "      <td>198.0</td>\n",
       "      <td>47.979798</td>\n",
       "      <td>WARNING</td>\n",
       "    </tr>\n",
       "  </tbody>\n",
       "</table>\n",
       "<p>110 rows × 5 columns</p>\n",
       "</div>"
      ],
      "text/plain": [
       "label                                                   0     1  Total  \\\n",
       "title                                                                    \n",
       "'They should be afraid': Baltimore leader calle...    5.0  13.0   18.0   \n",
       "A Complete Guide to the Manhattan Trump Electio...    5.0   1.0    6.0   \n",
       "A day after bridge collapse, Republicans are bl...   37.0  38.0   75.0   \n",
       "A solution to the retirement crisis? Americans ...   98.0  87.0  185.0   \n",
       "AI Is Making Financial Fraud Easier and More So...    3.0   4.0    7.0   \n",
       "...                                                   ...   ...    ...   \n",
       "X Account Trump Cited in Attacks on Judge’s Dau...   43.0  47.0   90.0   \n",
       "[The Washington Post] Judge recommends conserva...    2.0   1.0    3.0   \n",
       "r/Politics' 2024 US Elections Live Thread, Part 6    42.0  43.0   85.0   \n",
       "‘Why do they bend their knee?’ 6 Never-Trumpers...    8.0  13.0   21.0   \n",
       "“This is insane”: RNC reportedly makes Trump’s ...  103.0  95.0  198.0   \n",
       "\n",
       "label                                               misinformation_percentage  \\\n",
       "title                                                                           \n",
       "'They should be afraid': Baltimore leader calle...                  72.222222   \n",
       "A Complete Guide to the Manhattan Trump Electio...                  16.666667   \n",
       "A day after bridge collapse, Republicans are bl...                  50.666667   \n",
       "A solution to the retirement crisis? Americans ...                  47.027027   \n",
       "AI Is Making Financial Fraud Easier and More So...                  57.142857   \n",
       "...                                                                       ...   \n",
       "X Account Trump Cited in Attacks on Judge’s Dau...                  52.222222   \n",
       "[The Washington Post] Judge recommends conserva...                  33.333333   \n",
       "r/Politics' 2024 US Elections Live Thread, Part 6                   50.588235   \n",
       "‘Why do they bend their knee?’ 6 Never-Trumpers...                  61.904762   \n",
       "“This is insane”: RNC reportedly makes Trump’s ...                  47.979798   \n",
       "\n",
       "label                                              misinformatoin_ALERT  \n",
       "title                                                                    \n",
       "'They should be afraid': Baltimore leader calle...                ALERT  \n",
       "A Complete Guide to the Manhattan Trump Electio...                    N  \n",
       "A day after bridge collapse, Republicans are bl...              WARNING  \n",
       "A solution to the retirement crisis? Americans ...              WARNING  \n",
       "AI Is Making Financial Fraud Easier and More So...                ALERT  \n",
       "...                                                                 ...  \n",
       "X Account Trump Cited in Attacks on Judge’s Dau...              WARNING  \n",
       "[The Washington Post] Judge recommends conserva...                    N  \n",
       "r/Politics' 2024 US Elections Live Thread, Part 6               WARNING  \n",
       "‘Why do they bend their knee?’ 6 Never-Trumpers...                ALERT  \n",
       "“This is insane”: RNC reportedly makes Trump’s ...              WARNING  \n",
       "\n",
       "[110 rows x 5 columns]"
      ]
     },
     "execution_count": 627,
     "metadata": {},
     "output_type": "execute_result"
    }
   ],
   "source": [
    "def calculate_total(row):\n",
    "    row['Total'] = row[[0,1]].sum()\n",
    "    return row\n",
    "\n",
    "def calculate_percentage(row):\n",
    "    threshold_1 = 45.0\n",
    "    threshold_2 = 55.0\n",
    "    row['misinformation_percentage'] = 100* row[1]/row['Total']\n",
    "    if row['misinformation_percentage'] >= threshold_2:\n",
    "        row['misinformatoin_ALERT'] = \"ALERT\"\n",
    "    elif threshold_1 < row['misinformation_percentage'] < threshold_2:\n",
    "        row['misinformatoin_ALERT'] = \"WARNING\"\n",
    "    else:\n",
    "        row['misinformatoin_ALERT'] = \"N\"\n",
    "    # row['misinformatoin_ALERT'] = \"ALERT\" if row['misinformation_percentage'] > threshold else \"N\"\n",
    "    return row\n",
    "\n",
    "# groupby 'Pclass' and 'Survived'\n",
    "t = comments_df.groupby(['title','label']).size()\n",
    "\n",
    "# unstack 'Survived' to the columns\n",
    "dt = t.unstack(['label'])\n",
    "\n",
    "# first apply the calculate_total function to calculate the total of each row, and create a new column 'Total',for each pclass\n",
    "dt2 = dt.apply(calculate_total, axis=1)\n",
    "\n",
    "# then, apply the calculate_percentage function to calculate the percentage for each pclass\n",
    "dt3 = dt2.apply(calculate_percentage, axis=1)\n",
    "dt3"
   ]
  },
  {
   "cell_type": "markdown",
   "metadata": {},
   "source": [
    "> Prediction Outcome:\n",
    "1. For each comment of a submission, each will be put into the model to predict the outcome of whether \"Misinformation\". \n",
    "2. When there is more than 55% of the comments are predicted as Misinformation, ALERT is displayed. When there is more than 45% but less than 55%, a WARNING is display. Finally, when there is less than 45% of comments are predicted as Misinformation, the \"N\" is displayed. \n",
    "3. Out of the 5 posts deemed as misleading by users, 3 were flagged as \"ALERT\" (true positive) and 2 were flagged as \"WARNING\".\n",
    "4. Out of the 4 posts deemed as not misleading by users, 3 were not flagged at all (true negative) and 1 was flagged incorrectly as \"ALERT\" (false positive). \n",
    "5. When we used a larger sample size of 100 posts on our model, around 43% of posts were flagged as \"ALERT\". Therefore, our model seems to have a high sensitivity towards detecting misinformation (both TP and FP). The threshold for detecting misinformation should be reviewed periodically as the model continues to improve and with more training data. "
   ]
  },
  {
   "cell_type": "markdown",
   "metadata": {},
   "source": [
    "### Export Predicted Output to CSV for offline reference\n"
   ]
  },
  {
   "cell_type": "code",
   "execution_count": null,
   "metadata": {},
   "outputs": [],
   "source": [
    "comments_df.to_csv(f\"../data/06_Implementation_Prediction_Outcome.csv\", index = False)"
   ]
  }
 ],
 "metadata": {
  "kernelspec": {
   "display_name": "Python 3 (ipykernel)",
   "language": "python",
   "name": "python3"
  },
  "language_info": {
   "codemirror_mode": {
    "name": "ipython",
    "version": 3
   },
   "file_extension": ".py",
   "mimetype": "text/x-python",
   "name": "python",
   "nbconvert_exporter": "python",
   "pygments_lexer": "ipython3",
   "version": "3.11.5"
  }
 },
 "nbformat": 4,
 "nbformat_minor": 2
}
