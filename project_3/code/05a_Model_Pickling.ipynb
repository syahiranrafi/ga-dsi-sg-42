{
 "cells": [
  {
   "cell_type": "code",
   "execution_count": 2,
   "metadata": {},
   "outputs": [],
   "source": [
    "import pandas as pd\n",
    "import numpy as np\n",
    "from sklearn.model_selection import train_test_split, cross_val_score\n",
    "from sklearn.linear_model import LogisticRegression\n",
    "from sklearn.feature_extraction.text import CountVectorizer\n",
    "import matplotlib.pyplot as plt\n",
    "import seaborn as sns\n",
    "from sklearn.metrics import accuracy_score, confusion_matrix\n",
    "import pickle"
   ]
  },
  {
   "cell_type": "markdown",
   "metadata": {},
   "source": [
    "## 05a Model Pickling :\n",
    "\n",
    "This notebook is for isolating the chosen model with the best parameters determined from 05_GridSearch_HyperparameterTuning for pickling purposes to upload to 06_Implementation and Streamlit"
   ]
  },
  {
   "cell_type": "code",
   "execution_count": 3,
   "metadata": {},
   "outputs": [],
   "source": [
    "data_set = '../data/03_data_post_EDA.csv'\n",
    "\n",
    "df = pd.read_csv(data_set)"
   ]
  },
  {
   "cell_type": "code",
   "execution_count": 5,
   "metadata": {},
   "outputs": [
    {
     "data": {
      "text/html": [
       "<div>\n",
       "<style scoped>\n",
       "    .dataframe tbody tr th:only-of-type {\n",
       "        vertical-align: middle;\n",
       "    }\n",
       "\n",
       "    .dataframe tbody tr th {\n",
       "        vertical-align: top;\n",
       "    }\n",
       "\n",
       "    .dataframe thead th {\n",
       "        text-align: right;\n",
       "    }\n",
       "</style>\n",
       "<table border=\"1\" class=\"dataframe\">\n",
       "  <thead>\n",
       "    <tr style=\"text-align: right;\">\n",
       "      <th></th>\n",
       "      <th>comment_id</th>\n",
       "      <th>parent_id</th>\n",
       "      <th>post_id</th>\n",
       "      <th>is_submitter</th>\n",
       "      <th>body</th>\n",
       "      <th>score</th>\n",
       "      <th>stickied</th>\n",
       "      <th>created_utc</th>\n",
       "      <th>post_title</th>\n",
       "      <th>subreddit</th>\n",
       "      <th>body_cleaned</th>\n",
       "      <th>body_cleaned_lemmatized</th>\n",
       "      <th>comment_length</th>\n",
       "      <th>sentiment_score</th>\n",
       "      <th>emotional_tone</th>\n",
       "    </tr>\n",
       "  </thead>\n",
       "  <tbody>\n",
       "    <tr>\n",
       "      <th>0</th>\n",
       "      <td>gbgsbi4</td>\n",
       "      <td>t3_jptqj9</td>\n",
       "      <td>t3_jptqj9</td>\n",
       "      <td>False</td>\n",
       "      <td>As you all celebrate or commiserate, please he...</td>\n",
       "      <td>1</td>\n",
       "      <td>True</td>\n",
       "      <td>2020-11-07 16:40:49</td>\n",
       "      <td>Joe Biden elected president of the United States</td>\n",
       "      <td>news</td>\n",
       "      <td>celebrate commiserate please help us reporting...</td>\n",
       "      <td>celebrate commiserate please help u reporting ...</td>\n",
       "      <td>138</td>\n",
       "      <td>0.15</td>\n",
       "      <td>Neutral</td>\n",
       "    </tr>\n",
       "    <tr>\n",
       "      <th>1</th>\n",
       "      <td>gbhfdv2</td>\n",
       "      <td>t3_jptqj9</td>\n",
       "      <td>t3_jptqj9</td>\n",
       "      <td>False</td>\n",
       "      <td>Congratulations USA! From Brazil, I hope Bolso...</td>\n",
       "      <td>172</td>\n",
       "      <td>False</td>\n",
       "      <td>2020-11-07 19:49:52</td>\n",
       "      <td>Joe Biden elected president of the United States</td>\n",
       "      <td>news</td>\n",
       "      <td>Congratulations USA Brazil hope Bolsonaro next...</td>\n",
       "      <td>congratulation usa brazil hope bolsonaro next ...</td>\n",
       "      <td>12</td>\n",
       "      <td>0.00</td>\n",
       "      <td>Neutral</td>\n",
       "    </tr>\n",
       "    <tr>\n",
       "      <th>2</th>\n",
       "      <td>gbgt3me</td>\n",
       "      <td>t3_jptqj9</td>\n",
       "      <td>t3_jptqj9</td>\n",
       "      <td>False</td>\n",
       "      <td>Fox News just called it a couple minutes ago, ...</td>\n",
       "      <td>8749</td>\n",
       "      <td>False</td>\n",
       "      <td>2020-11-07 16:46:18</td>\n",
       "      <td>Joe Biden elected president of the United States</td>\n",
       "      <td>news</td>\n",
       "      <td>Fox News called couple minutes ago know real</td>\n",
       "      <td>fox news call couple minute ago know real</td>\n",
       "      <td>14</td>\n",
       "      <td>0.20</td>\n",
       "      <td>Neutral</td>\n",
       "    </tr>\n",
       "    <tr>\n",
       "      <th>3</th>\n",
       "      <td>gbgvvs7</td>\n",
       "      <td>t3_jptqj9</td>\n",
       "      <td>t3_jptqj9</td>\n",
       "      <td>False</td>\n",
       "      <td>\"You were expecting Nevada to decide the elect...</td>\n",
       "      <td>16552</td>\n",
       "      <td>False</td>\n",
       "      <td>2020-11-07 17:09:05</td>\n",
       "      <td>Joe Biden elected president of the United States</td>\n",
       "      <td>news</td>\n",
       "      <td>You expecting Nevada decide election ME PENNSY...</td>\n",
       "      <td>you expect nevada decide election me pennsylvania</td>\n",
       "      <td>13</td>\n",
       "      <td>0.00</td>\n",
       "      <td>Neutral</td>\n",
       "    </tr>\n",
       "    <tr>\n",
       "      <th>4</th>\n",
       "      <td>gbgr8hw</td>\n",
       "      <td>t3_jptqj9</td>\n",
       "      <td>t3_jptqj9</td>\n",
       "      <td>False</td>\n",
       "      <td>Is it 100% confirmed, as in nothing can take t...</td>\n",
       "      <td>3176</td>\n",
       "      <td>False</td>\n",
       "      <td>2020-11-07 16:32:37</td>\n",
       "      <td>Joe Biden elected president of the United States</td>\n",
       "      <td>news</td>\n",
       "      <td>100 confirmed nothing take away</td>\n",
       "      <td>100 confirm nothing take away</td>\n",
       "      <td>11</td>\n",
       "      <td>0.40</td>\n",
       "      <td>Positive</td>\n",
       "    </tr>\n",
       "  </tbody>\n",
       "</table>\n",
       "</div>"
      ],
      "text/plain": [
       "  comment_id  parent_id    post_id  is_submitter  \\\n",
       "0    gbgsbi4  t3_jptqj9  t3_jptqj9         False   \n",
       "1    gbhfdv2  t3_jptqj9  t3_jptqj9         False   \n",
       "2    gbgt3me  t3_jptqj9  t3_jptqj9         False   \n",
       "3    gbgvvs7  t3_jptqj9  t3_jptqj9         False   \n",
       "4    gbgr8hw  t3_jptqj9  t3_jptqj9         False   \n",
       "\n",
       "                                                body  score  stickied  \\\n",
       "0  As you all celebrate or commiserate, please he...      1      True   \n",
       "1  Congratulations USA! From Brazil, I hope Bolso...    172     False   \n",
       "2  Fox News just called it a couple minutes ago, ...   8749     False   \n",
       "3  \"You were expecting Nevada to decide the elect...  16552     False   \n",
       "4  Is it 100% confirmed, as in nothing can take t...   3176     False   \n",
       "\n",
       "           created_utc                                        post_title  \\\n",
       "0  2020-11-07 16:40:49  Joe Biden elected president of the United States   \n",
       "1  2020-11-07 19:49:52  Joe Biden elected president of the United States   \n",
       "2  2020-11-07 16:46:18  Joe Biden elected president of the United States   \n",
       "3  2020-11-07 17:09:05  Joe Biden elected president of the United States   \n",
       "4  2020-11-07 16:32:37  Joe Biden elected president of the United States   \n",
       "\n",
       "  subreddit                                       body_cleaned  \\\n",
       "0      news  celebrate commiserate please help us reporting...   \n",
       "1      news  Congratulations USA Brazil hope Bolsonaro next...   \n",
       "2      news       Fox News called couple minutes ago know real   \n",
       "3      news  You expecting Nevada decide election ME PENNSY...   \n",
       "4      news                    100 confirmed nothing take away   \n",
       "\n",
       "                             body_cleaned_lemmatized  comment_length  \\\n",
       "0  celebrate commiserate please help u reporting ...             138   \n",
       "1  congratulation usa brazil hope bolsonaro next ...              12   \n",
       "2          fox news call couple minute ago know real              14   \n",
       "3  you expect nevada decide election me pennsylvania              13   \n",
       "4                      100 confirm nothing take away              11   \n",
       "\n",
       "   sentiment_score emotional_tone  \n",
       "0             0.15        Neutral  \n",
       "1             0.00        Neutral  \n",
       "2             0.20        Neutral  \n",
       "3             0.00        Neutral  \n",
       "4             0.40       Positive  "
      ]
     },
     "execution_count": 5,
     "metadata": {},
     "output_type": "execute_result"
    }
   ],
   "source": [
    "df.head()"
   ]
  },
  {
   "cell_type": "code",
   "execution_count": 6,
   "metadata": {},
   "outputs": [],
   "source": [
    "df['subreddit_binary'] = df['subreddit'].map({'TheOnion': 1, 'news': 0})"
   ]
  },
  {
   "cell_type": "code",
   "execution_count": 7,
   "metadata": {},
   "outputs": [
    {
     "data": {
      "text/html": [
       "<div>\n",
       "<style scoped>\n",
       "    .dataframe tbody tr th:only-of-type {\n",
       "        vertical-align: middle;\n",
       "    }\n",
       "\n",
       "    .dataframe tbody tr th {\n",
       "        vertical-align: top;\n",
       "    }\n",
       "\n",
       "    .dataframe thead th {\n",
       "        text-align: right;\n",
       "    }\n",
       "</style>\n",
       "<table border=\"1\" class=\"dataframe\">\n",
       "  <thead>\n",
       "    <tr style=\"text-align: right;\">\n",
       "      <th></th>\n",
       "      <th>subreddit_binary</th>\n",
       "      <th>subreddit</th>\n",
       "    </tr>\n",
       "  </thead>\n",
       "  <tbody>\n",
       "    <tr>\n",
       "      <th>0</th>\n",
       "      <td>0</td>\n",
       "      <td>news</td>\n",
       "    </tr>\n",
       "    <tr>\n",
       "      <th>1</th>\n",
       "      <td>0</td>\n",
       "      <td>news</td>\n",
       "    </tr>\n",
       "    <tr>\n",
       "      <th>2</th>\n",
       "      <td>0</td>\n",
       "      <td>news</td>\n",
       "    </tr>\n",
       "    <tr>\n",
       "      <th>3</th>\n",
       "      <td>0</td>\n",
       "      <td>news</td>\n",
       "    </tr>\n",
       "    <tr>\n",
       "      <th>4</th>\n",
       "      <td>0</td>\n",
       "      <td>news</td>\n",
       "    </tr>\n",
       "    <tr>\n",
       "      <th>...</th>\n",
       "      <td>...</td>\n",
       "      <td>...</td>\n",
       "    </tr>\n",
       "    <tr>\n",
       "      <th>37914</th>\n",
       "      <td>1</td>\n",
       "      <td>TheOnion</td>\n",
       "    </tr>\n",
       "    <tr>\n",
       "      <th>37915</th>\n",
       "      <td>1</td>\n",
       "      <td>TheOnion</td>\n",
       "    </tr>\n",
       "    <tr>\n",
       "      <th>37916</th>\n",
       "      <td>1</td>\n",
       "      <td>TheOnion</td>\n",
       "    </tr>\n",
       "    <tr>\n",
       "      <th>37917</th>\n",
       "      <td>1</td>\n",
       "      <td>TheOnion</td>\n",
       "    </tr>\n",
       "    <tr>\n",
       "      <th>37918</th>\n",
       "      <td>1</td>\n",
       "      <td>TheOnion</td>\n",
       "    </tr>\n",
       "  </tbody>\n",
       "</table>\n",
       "<p>37919 rows × 2 columns</p>\n",
       "</div>"
      ],
      "text/plain": [
       "       subreddit_binary subreddit\n",
       "0                     0      news\n",
       "1                     0      news\n",
       "2                     0      news\n",
       "3                     0      news\n",
       "4                     0      news\n",
       "...                 ...       ...\n",
       "37914                 1  TheOnion\n",
       "37915                 1  TheOnion\n",
       "37916                 1  TheOnion\n",
       "37917                 1  TheOnion\n",
       "37918                 1  TheOnion\n",
       "\n",
       "[37919 rows x 2 columns]"
      ]
     },
     "execution_count": 7,
     "metadata": {},
     "output_type": "execute_result"
    }
   ],
   "source": [
    "df[['subreddit_binary','subreddit']]"
   ]
  },
  {
   "cell_type": "code",
   "execution_count": 8,
   "metadata": {},
   "outputs": [
    {
     "data": {
      "text/plain": [
       "comment_id                   0\n",
       "parent_id                    0\n",
       "post_id                      0\n",
       "is_submitter                 0\n",
       "body                         0\n",
       "score                        0\n",
       "stickied                     0\n",
       "created_utc                  0\n",
       "post_title                   0\n",
       "subreddit                    0\n",
       "body_cleaned               140\n",
       "body_cleaned_lemmatized    154\n",
       "comment_length               0\n",
       "sentiment_score              0\n",
       "emotional_tone               0\n",
       "subreddit_binary             0\n",
       "dtype: int64"
      ]
     },
     "execution_count": 8,
     "metadata": {},
     "output_type": "execute_result"
    }
   ],
   "source": [
    "df.isnull().sum()"
   ]
  },
  {
   "cell_type": "code",
   "execution_count": 9,
   "metadata": {},
   "outputs": [
    {
     "data": {
      "text/plain": [
       "comment_id                 0\n",
       "parent_id                  0\n",
       "post_id                    0\n",
       "is_submitter               0\n",
       "body                       0\n",
       "score                      0\n",
       "stickied                   0\n",
       "created_utc                0\n",
       "post_title                 0\n",
       "subreddit                  0\n",
       "body_cleaned               0\n",
       "body_cleaned_lemmatized    0\n",
       "comment_length             0\n",
       "sentiment_score            0\n",
       "emotional_tone             0\n",
       "subreddit_binary           0\n",
       "dtype: int64"
      ]
     },
     "execution_count": 9,
     "metadata": {},
     "output_type": "execute_result"
    }
   ],
   "source": [
    "df = df.dropna(subset=['body_cleaned_lemmatized'])\n",
    "df.isnull().sum()"
   ]
  },
  {
   "cell_type": "markdown",
   "metadata": {},
   "source": [
    "Transformation of data using CountVectorizer with best parameters listed below:"
   ]
  },
  {
   "cell_type": "code",
   "execution_count": 10,
   "metadata": {},
   "outputs": [],
   "source": [
    "cvec = CountVectorizer(max_df=0.9,max_features= 7500,min_df=1,ngram_range=(1,1),stop_words='english',)\n",
    "\n",
    "X = cvec.fit_transform(df['body_cleaned_lemmatized'])\n",
    "y = df['subreddit_binary']\n",
    "# Split the data into training and testing sets\n",
    "X_train, X_test, y_train, y_test = train_test_split(X, y, test_size=0.2, random_state=42,stratify=y)"
   ]
  },
  {
   "cell_type": "markdown",
   "metadata": {},
   "source": [
    "Instantiating of Logistic Regression model with best parameters listed below, alongside measurements of scoring values to ensure consistent results as 05_GridSearch_HyperparameterTuning"
   ]
  },
  {
   "cell_type": "code",
   "execution_count": 13,
   "metadata": {},
   "outputs": [
    {
     "name": "stdout",
     "output_type": "stream",
     "text": [
      "Accuracy: 0.8307957103137826\n",
      "Sensitivity: 0.8460241640910368\n",
      "f1_score: 0.824931506849315\n"
     ]
    },
    {
     "data": {
      "image/png": "[encoded data removed]",
      "text/plain": [
       "<Figure size 800x600 with 1 Axes>"
      ]
     },
     "metadata": {},
     "output_type": "display_data"
    }
   ],
   "source": [
    "\n",
    "\n",
    "# Initialize and train the logistic regression model\n",
    "logistic_regression = LogisticRegression(solver='liblinear', max_iter= 2000,C=1.0,class_weight='balanced',\n",
    "                                        penalty= 'l1')\n",
    "logistic_regression.fit(X_train, y_train)\n",
    "\n",
    "\n",
    "# Predict labels for the test set\n",
    "y_pred_lr = logistic_regression.predict(X_test)\n",
    "\n",
    "# Evaluate the model\n",
    "accuracy_lr = accuracy_score(y_test, y_pred_lr)\n",
    "print(\"Accuracy:\", accuracy_lr)\n",
    "\n",
    "tn, fp, fn, tp = confusion_matrix(y_test, y_pred_lr).ravel()\n",
    "\n",
    "print('Precision', tp/(tp+fp))\n",
    "print('Sensitivity:' , tp / (tp+fn))\n",
    "print('f1_score:', 2*tp / (2*tp + fp + fn))\n",
    "\n",
    "cm_lr = confusion_matrix(y_test, y_pred_lr)\n",
    "\n",
    "# Define class labels\n",
    "class_labels = [ 'Fact','Misinformation']\n",
    "\n",
    "# Plot confusion matrix\n",
    "plt.figure(figsize=(8, 6))\n",
    "sns.heatmap(cm_lr, annot=True, fmt='d', cmap='Blues', cbar=False)\n",
    "plt.xlabel('Predicted Labels')\n",
    "plt.ylabel('True Labels')\n",
    "plt.xticks(ticks=np.arange(len(class_labels)) + 0.5, labels=class_labels)\n",
    "plt.yticks(ticks=np.arange(len(class_labels)) + 0.5, labels=class_labels)\n",
    "plt.title('Confusion Matrix for Logistic Regression')\n",
    "plt.show()\n"
   ]
  },
  {
   "cell_type": "markdown",
   "metadata": {},
   "source": [
    "## Pickling of Desired Model"
   ]
  },
  {
   "cell_type": "code",
   "execution_count": 14,
   "metadata": {},
   "outputs": [],
   "source": [
    "# Pickle the CountVectorizer\n",
    "with open(\"count_vectorizer.pkl\", \"wb\") as f:\n",
    "    pickle.dump(cvec, f)\n",
    "\n",
    "# Pickle the model\n",
    "with open(\"model.pkl\", \"wb\") as f:\n",
    "    pickle.dump(logistic_regression, f)"
   ]
  }
 ],
 "metadata": {
  "kernelspec": {
   "display_name": "base",
   "language": "python",
   "name": "python3"
  },
  "language_info": {
   "codemirror_mode": {
    "name": "ipython",
    "version": 3
   },
   "file_extension": ".py",
   "mimetype": "text/x-python",
   "name": "python",
   "nbconvert_exporter": "python",
   "pygments_lexer": "ipython3",
   "version": "3.11.5"
  }
 },
 "nbformat": 4,
 "nbformat_minor": 2
}
